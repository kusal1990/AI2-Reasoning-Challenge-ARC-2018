{
  "nbformat": 4,
  "nbformat_minor": 0,
  "metadata": {
    "colab": {
      "name": "Final_model.ipynb",
      "provenance": [],
      "collapsed_sections": [],
      "machine_shape": "hm"
    },
    "kernelspec": {
      "name": "python3",
      "display_name": "Python 3"
    },
    "language_info": {
      "name": "python"
    },
    "accelerator": "GPU",
    "gpuClass": "standard",
    "widgets": {
      "application/vnd.jupyter.widget-state+json": {
        "3c958a9658484237b6c37d1953b2dea7": {
          "model_module": "@jupyter-widgets/controls",
          "model_name": "HBoxModel",
          "model_module_version": "1.5.0",
          "state": {
            "_dom_classes": [],
            "_model_module": "@jupyter-widgets/controls",
            "_model_module_version": "1.5.0",
            "_model_name": "HBoxModel",
            "_view_count": null,
            "_view_module": "@jupyter-widgets/controls",
            "_view_module_version": "1.5.0",
            "_view_name": "HBoxView",
            "box_style": "",
            "children": [
              "IPY_MODEL_2f9fb3b415b249cab54af9ff64b9a111",
              "IPY_MODEL_bd23d5df7d0846a0938368f4f783e175",
              "IPY_MODEL_61915dc9b51444f09325d20553dfc5a7"
            ],
            "layout": "IPY_MODEL_40614a7469364d3a8aa68ba3fef3af8d"
          }
        },
        "2f9fb3b415b249cab54af9ff64b9a111": {
          "model_module": "@jupyter-widgets/controls",
          "model_name": "HTMLModel",
          "model_module_version": "1.5.0",
          "state": {
            "_dom_classes": [],
            "_model_module": "@jupyter-widgets/controls",
            "_model_module_version": "1.5.0",
            "_model_name": "HTMLModel",
            "_view_count": null,
            "_view_module": "@jupyter-widgets/controls",
            "_view_module_version": "1.5.0",
            "_view_name": "HTMLView",
            "description": "",
            "description_tooltip": null,
            "layout": "IPY_MODEL_ed24b686e23b488e8a425fcf0027a14b",
            "placeholder": "​",
            "style": "IPY_MODEL_4f3ef22de24d484aa0bcf6b9c4acd235",
            "value": "Downloading: 100%"
          }
        },
        "bd23d5df7d0846a0938368f4f783e175": {
          "model_module": "@jupyter-widgets/controls",
          "model_name": "FloatProgressModel",
          "model_module_version": "1.5.0",
          "state": {
            "_dom_classes": [],
            "_model_module": "@jupyter-widgets/controls",
            "_model_module_version": "1.5.0",
            "_model_name": "FloatProgressModel",
            "_view_count": null,
            "_view_module": "@jupyter-widgets/controls",
            "_view_module_version": "1.5.0",
            "_view_name": "ProgressView",
            "bar_style": "success",
            "description": "",
            "description_tooltip": null,
            "layout": "IPY_MODEL_2b6a57e1758f4e8baa90193a0f7a28fa",
            "max": 1197,
            "min": 0,
            "orientation": "horizontal",
            "style": "IPY_MODEL_ccee669584de4c659f7c34c4c8075b16",
            "value": 1197
          }
        },
        "61915dc9b51444f09325d20553dfc5a7": {
          "model_module": "@jupyter-widgets/controls",
          "model_name": "HTMLModel",
          "model_module_version": "1.5.0",
          "state": {
            "_dom_classes": [],
            "_model_module": "@jupyter-widgets/controls",
            "_model_module_version": "1.5.0",
            "_model_name": "HTMLModel",
            "_view_count": null,
            "_view_module": "@jupyter-widgets/controls",
            "_view_module_version": "1.5.0",
            "_view_name": "HTMLView",
            "description": "",
            "description_tooltip": null,
            "layout": "IPY_MODEL_f54c7c2f73f743f8a6b49a89d4fe425f",
            "placeholder": "​",
            "style": "IPY_MODEL_d62ae2ada35546a9b4194229d85e2446",
            "value": " 1.17k/1.17k [00:00&lt;00:00, 28.1kB/s]"
          }
        },
        "40614a7469364d3a8aa68ba3fef3af8d": {
          "model_module": "@jupyter-widgets/base",
          "model_name": "LayoutModel",
          "model_module_version": "1.2.0",
          "state": {
            "_model_module": "@jupyter-widgets/base",
            "_model_module_version": "1.2.0",
            "_model_name": "LayoutModel",
            "_view_count": null,
            "_view_module": "@jupyter-widgets/base",
            "_view_module_version": "1.2.0",
            "_view_name": "LayoutView",
            "align_content": null,
            "align_items": null,
            "align_self": null,
            "border": null,
            "bottom": null,
            "display": null,
            "flex": null,
            "flex_flow": null,
            "grid_area": null,
            "grid_auto_columns": null,
            "grid_auto_flow": null,
            "grid_auto_rows": null,
            "grid_column": null,
            "grid_gap": null,
            "grid_row": null,
            "grid_template_areas": null,
            "grid_template_columns": null,
            "grid_template_rows": null,
            "height": null,
            "justify_content": null,
            "justify_items": null,
            "left": null,
            "margin": null,
            "max_height": null,
            "max_width": null,
            "min_height": null,
            "min_width": null,
            "object_fit": null,
            "object_position": null,
            "order": null,
            "overflow": null,
            "overflow_x": null,
            "overflow_y": null,
            "padding": null,
            "right": null,
            "top": null,
            "visibility": null,
            "width": null
          }
        },
        "ed24b686e23b488e8a425fcf0027a14b": {
          "model_module": "@jupyter-widgets/base",
          "model_name": "LayoutModel",
          "model_module_version": "1.2.0",
          "state": {
            "_model_module": "@jupyter-widgets/base",
            "_model_module_version": "1.2.0",
            "_model_name": "LayoutModel",
            "_view_count": null,
            "_view_module": "@jupyter-widgets/base",
            "_view_module_version": "1.2.0",
            "_view_name": "LayoutView",
            "align_content": null,
            "align_items": null,
            "align_self": null,
            "border": null,
            "bottom": null,
            "display": null,
            "flex": null,
            "flex_flow": null,
            "grid_area": null,
            "grid_auto_columns": null,
            "grid_auto_flow": null,
            "grid_auto_rows": null,
            "grid_column": null,
            "grid_gap": null,
            "grid_row": null,
            "grid_template_areas": null,
            "grid_template_columns": null,
            "grid_template_rows": null,
            "height": null,
            "justify_content": null,
            "justify_items": null,
            "left": null,
            "margin": null,
            "max_height": null,
            "max_width": null,
            "min_height": null,
            "min_width": null,
            "object_fit": null,
            "object_position": null,
            "order": null,
            "overflow": null,
            "overflow_x": null,
            "overflow_y": null,
            "padding": null,
            "right": null,
            "top": null,
            "visibility": null,
            "width": null
          }
        },
        "4f3ef22de24d484aa0bcf6b9c4acd235": {
          "model_module": "@jupyter-widgets/controls",
          "model_name": "DescriptionStyleModel",
          "model_module_version": "1.5.0",
          "state": {
            "_model_module": "@jupyter-widgets/controls",
            "_model_module_version": "1.5.0",
            "_model_name": "DescriptionStyleModel",
            "_view_count": null,
            "_view_module": "@jupyter-widgets/base",
            "_view_module_version": "1.2.0",
            "_view_name": "StyleView",
            "description_width": ""
          }
        },
        "2b6a57e1758f4e8baa90193a0f7a28fa": {
          "model_module": "@jupyter-widgets/base",
          "model_name": "LayoutModel",
          "model_module_version": "1.2.0",
          "state": {
            "_model_module": "@jupyter-widgets/base",
            "_model_module_version": "1.2.0",
            "_model_name": "LayoutModel",
            "_view_count": null,
            "_view_module": "@jupyter-widgets/base",
            "_view_module_version": "1.2.0",
            "_view_name": "LayoutView",
            "align_content": null,
            "align_items": null,
            "align_self": null,
            "border": null,
            "bottom": null,
            "display": null,
            "flex": null,
            "flex_flow": null,
            "grid_area": null,
            "grid_auto_columns": null,
            "grid_auto_flow": null,
            "grid_auto_rows": null,
            "grid_column": null,
            "grid_gap": null,
            "grid_row": null,
            "grid_template_areas": null,
            "grid_template_columns": null,
            "grid_template_rows": null,
            "height": null,
            "justify_content": null,
            "justify_items": null,
            "left": null,
            "margin": null,
            "max_height": null,
            "max_width": null,
            "min_height": null,
            "min_width": null,
            "object_fit": null,
            "object_position": null,
            "order": null,
            "overflow": null,
            "overflow_x": null,
            "overflow_y": null,
            "padding": null,
            "right": null,
            "top": null,
            "visibility": null,
            "width": null
          }
        },
        "ccee669584de4c659f7c34c4c8075b16": {
          "model_module": "@jupyter-widgets/controls",
          "model_name": "ProgressStyleModel",
          "model_module_version": "1.5.0",
          "state": {
            "_model_module": "@jupyter-widgets/controls",
            "_model_module_version": "1.5.0",
            "_model_name": "ProgressStyleModel",
            "_view_count": null,
            "_view_module": "@jupyter-widgets/base",
            "_view_module_version": "1.2.0",
            "_view_name": "StyleView",
            "bar_color": null,
            "description_width": ""
          }
        },
        "f54c7c2f73f743f8a6b49a89d4fe425f": {
          "model_module": "@jupyter-widgets/base",
          "model_name": "LayoutModel",
          "model_module_version": "1.2.0",
          "state": {
            "_model_module": "@jupyter-widgets/base",
            "_model_module_version": "1.2.0",
            "_model_name": "LayoutModel",
            "_view_count": null,
            "_view_module": "@jupyter-widgets/base",
            "_view_module_version": "1.2.0",
            "_view_name": "LayoutView",
            "align_content": null,
            "align_items": null,
            "align_self": null,
            "border": null,
            "bottom": null,
            "display": null,
            "flex": null,
            "flex_flow": null,
            "grid_area": null,
            "grid_auto_columns": null,
            "grid_auto_flow": null,
            "grid_auto_rows": null,
            "grid_column": null,
            "grid_gap": null,
            "grid_row": null,
            "grid_template_areas": null,
            "grid_template_columns": null,
            "grid_template_rows": null,
            "height": null,
            "justify_content": null,
            "justify_items": null,
            "left": null,
            "margin": null,
            "max_height": null,
            "max_width": null,
            "min_height": null,
            "min_width": null,
            "object_fit": null,
            "object_position": null,
            "order": null,
            "overflow": null,
            "overflow_x": null,
            "overflow_y": null,
            "padding": null,
            "right": null,
            "top": null,
            "visibility": null,
            "width": null
          }
        },
        "d62ae2ada35546a9b4194229d85e2446": {
          "model_module": "@jupyter-widgets/controls",
          "model_name": "DescriptionStyleModel",
          "model_module_version": "1.5.0",
          "state": {
            "_model_module": "@jupyter-widgets/controls",
            "_model_module_version": "1.5.0",
            "_model_name": "DescriptionStyleModel",
            "_view_count": null,
            "_view_module": "@jupyter-widgets/base",
            "_view_module_version": "1.2.0",
            "_view_name": "StyleView",
            "description_width": ""
          }
        },
        "9115fe7fd0bd478fad66c84c10437d8b": {
          "model_module": "@jupyter-widgets/controls",
          "model_name": "HBoxModel",
          "model_module_version": "1.5.0",
          "state": {
            "_dom_classes": [],
            "_model_module": "@jupyter-widgets/controls",
            "_model_module_version": "1.5.0",
            "_model_name": "HBoxModel",
            "_view_count": null,
            "_view_module": "@jupyter-widgets/controls",
            "_view_module_version": "1.5.0",
            "_view_name": "HBoxView",
            "box_style": "",
            "children": [
              "IPY_MODEL_e3d8deac3d6040989f59c588ea672c94",
              "IPY_MODEL_84b18373f03d4f3b9eae74b10cdf97b1",
              "IPY_MODEL_2aff349d336347a0865bbafe25b0de63"
            ],
            "layout": "IPY_MODEL_c6fdf9bfe7664646aa550faa515b7547"
          }
        },
        "e3d8deac3d6040989f59c588ea672c94": {
          "model_module": "@jupyter-widgets/controls",
          "model_name": "HTMLModel",
          "model_module_version": "1.5.0",
          "state": {
            "_dom_classes": [],
            "_model_module": "@jupyter-widgets/controls",
            "_model_module_version": "1.5.0",
            "_model_name": "HTMLModel",
            "_view_count": null,
            "_view_module": "@jupyter-widgets/controls",
            "_view_module_version": "1.5.0",
            "_view_name": "HTMLView",
            "description": "",
            "description_tooltip": null,
            "layout": "IPY_MODEL_529b71f5e08c495e8126baa03c47805f",
            "placeholder": "​",
            "style": "IPY_MODEL_54c3d3131fd5498891e67d462f77bc99",
            "value": "Downloading: 100%"
          }
        },
        "84b18373f03d4f3b9eae74b10cdf97b1": {
          "model_module": "@jupyter-widgets/controls",
          "model_name": "FloatProgressModel",
          "model_module_version": "1.5.0",
          "state": {
            "_dom_classes": [],
            "_model_module": "@jupyter-widgets/controls",
            "_model_module_version": "1.5.0",
            "_model_name": "FloatProgressModel",
            "_view_count": null,
            "_view_module": "@jupyter-widgets/controls",
            "_view_module_version": "1.5.0",
            "_view_name": "ProgressView",
            "bar_style": "success",
            "description": "",
            "description_tooltip": null,
            "layout": "IPY_MODEL_c1b90d73fd2e4b73919a092ceb5148fd",
            "max": 791656,
            "min": 0,
            "orientation": "horizontal",
            "style": "IPY_MODEL_92a6174b71a24c97952d8f8a2db0f03c",
            "value": 791656
          }
        },
        "2aff349d336347a0865bbafe25b0de63": {
          "model_module": "@jupyter-widgets/controls",
          "model_name": "HTMLModel",
          "model_module_version": "1.5.0",
          "state": {
            "_dom_classes": [],
            "_model_module": "@jupyter-widgets/controls",
            "_model_module_version": "1.5.0",
            "_model_name": "HTMLModel",
            "_view_count": null,
            "_view_module": "@jupyter-widgets/controls",
            "_view_module_version": "1.5.0",
            "_view_name": "HTMLView",
            "description": "",
            "description_tooltip": null,
            "layout": "IPY_MODEL_6e1b5555d33043d1862c0f58ee09ef8a",
            "placeholder": "​",
            "style": "IPY_MODEL_4a68a161301a4207afe36c178ca28be1",
            "value": " 773k/773k [00:00&lt;00:00, 652kB/s]"
          }
        },
        "c6fdf9bfe7664646aa550faa515b7547": {
          "model_module": "@jupyter-widgets/base",
          "model_name": "LayoutModel",
          "model_module_version": "1.2.0",
          "state": {
            "_model_module": "@jupyter-widgets/base",
            "_model_module_version": "1.2.0",
            "_model_name": "LayoutModel",
            "_view_count": null,
            "_view_module": "@jupyter-widgets/base",
            "_view_module_version": "1.2.0",
            "_view_name": "LayoutView",
            "align_content": null,
            "align_items": null,
            "align_self": null,
            "border": null,
            "bottom": null,
            "display": null,
            "flex": null,
            "flex_flow": null,
            "grid_area": null,
            "grid_auto_columns": null,
            "grid_auto_flow": null,
            "grid_auto_rows": null,
            "grid_column": null,
            "grid_gap": null,
            "grid_row": null,
            "grid_template_areas": null,
            "grid_template_columns": null,
            "grid_template_rows": null,
            "height": null,
            "justify_content": null,
            "justify_items": null,
            "left": null,
            "margin": null,
            "max_height": null,
            "max_width": null,
            "min_height": null,
            "min_width": null,
            "object_fit": null,
            "object_position": null,
            "order": null,
            "overflow": null,
            "overflow_x": null,
            "overflow_y": null,
            "padding": null,
            "right": null,
            "top": null,
            "visibility": null,
            "width": null
          }
        },
        "529b71f5e08c495e8126baa03c47805f": {
          "model_module": "@jupyter-widgets/base",
          "model_name": "LayoutModel",
          "model_module_version": "1.2.0",
          "state": {
            "_model_module": "@jupyter-widgets/base",
            "_model_module_version": "1.2.0",
            "_model_name": "LayoutModel",
            "_view_count": null,
            "_view_module": "@jupyter-widgets/base",
            "_view_module_version": "1.2.0",
            "_view_name": "LayoutView",
            "align_content": null,
            "align_items": null,
            "align_self": null,
            "border": null,
            "bottom": null,
            "display": null,
            "flex": null,
            "flex_flow": null,
            "grid_area": null,
            "grid_auto_columns": null,
            "grid_auto_flow": null,
            "grid_auto_rows": null,
            "grid_column": null,
            "grid_gap": null,
            "grid_row": null,
            "grid_template_areas": null,
            "grid_template_columns": null,
            "grid_template_rows": null,
            "height": null,
            "justify_content": null,
            "justify_items": null,
            "left": null,
            "margin": null,
            "max_height": null,
            "max_width": null,
            "min_height": null,
            "min_width": null,
            "object_fit": null,
            "object_position": null,
            "order": null,
            "overflow": null,
            "overflow_x": null,
            "overflow_y": null,
            "padding": null,
            "right": null,
            "top": null,
            "visibility": null,
            "width": null
          }
        },
        "54c3d3131fd5498891e67d462f77bc99": {
          "model_module": "@jupyter-widgets/controls",
          "model_name": "DescriptionStyleModel",
          "model_module_version": "1.5.0",
          "state": {
            "_model_module": "@jupyter-widgets/controls",
            "_model_module_version": "1.5.0",
            "_model_name": "DescriptionStyleModel",
            "_view_count": null,
            "_view_module": "@jupyter-widgets/base",
            "_view_module_version": "1.2.0",
            "_view_name": "StyleView",
            "description_width": ""
          }
        },
        "c1b90d73fd2e4b73919a092ceb5148fd": {
          "model_module": "@jupyter-widgets/base",
          "model_name": "LayoutModel",
          "model_module_version": "1.2.0",
          "state": {
            "_model_module": "@jupyter-widgets/base",
            "_model_module_version": "1.2.0",
            "_model_name": "LayoutModel",
            "_view_count": null,
            "_view_module": "@jupyter-widgets/base",
            "_view_module_version": "1.2.0",
            "_view_name": "LayoutView",
            "align_content": null,
            "align_items": null,
            "align_self": null,
            "border": null,
            "bottom": null,
            "display": null,
            "flex": null,
            "flex_flow": null,
            "grid_area": null,
            "grid_auto_columns": null,
            "grid_auto_flow": null,
            "grid_auto_rows": null,
            "grid_column": null,
            "grid_gap": null,
            "grid_row": null,
            "grid_template_areas": null,
            "grid_template_columns": null,
            "grid_template_rows": null,
            "height": null,
            "justify_content": null,
            "justify_items": null,
            "left": null,
            "margin": null,
            "max_height": null,
            "max_width": null,
            "min_height": null,
            "min_width": null,
            "object_fit": null,
            "object_position": null,
            "order": null,
            "overflow": null,
            "overflow_x": null,
            "overflow_y": null,
            "padding": null,
            "right": null,
            "top": null,
            "visibility": null,
            "width": null
          }
        },
        "92a6174b71a24c97952d8f8a2db0f03c": {
          "model_module": "@jupyter-widgets/controls",
          "model_name": "ProgressStyleModel",
          "model_module_version": "1.5.0",
          "state": {
            "_model_module": "@jupyter-widgets/controls",
            "_model_module_version": "1.5.0",
            "_model_name": "ProgressStyleModel",
            "_view_count": null,
            "_view_module": "@jupyter-widgets/base",
            "_view_module_version": "1.2.0",
            "_view_name": "StyleView",
            "bar_color": null,
            "description_width": ""
          }
        },
        "6e1b5555d33043d1862c0f58ee09ef8a": {
          "model_module": "@jupyter-widgets/base",
          "model_name": "LayoutModel",
          "model_module_version": "1.2.0",
          "state": {
            "_model_module": "@jupyter-widgets/base",
            "_model_module_version": "1.2.0",
            "_model_name": "LayoutModel",
            "_view_count": null,
            "_view_module": "@jupyter-widgets/base",
            "_view_module_version": "1.2.0",
            "_view_name": "LayoutView",
            "align_content": null,
            "align_items": null,
            "align_self": null,
            "border": null,
            "bottom": null,
            "display": null,
            "flex": null,
            "flex_flow": null,
            "grid_area": null,
            "grid_auto_columns": null,
            "grid_auto_flow": null,
            "grid_auto_rows": null,
            "grid_column": null,
            "grid_gap": null,
            "grid_row": null,
            "grid_template_areas": null,
            "grid_template_columns": null,
            "grid_template_rows": null,
            "height": null,
            "justify_content": null,
            "justify_items": null,
            "left": null,
            "margin": null,
            "max_height": null,
            "max_width": null,
            "min_height": null,
            "min_width": null,
            "object_fit": null,
            "object_position": null,
            "order": null,
            "overflow": null,
            "overflow_x": null,
            "overflow_y": null,
            "padding": null,
            "right": null,
            "top": null,
            "visibility": null,
            "width": null
          }
        },
        "4a68a161301a4207afe36c178ca28be1": {
          "model_module": "@jupyter-widgets/controls",
          "model_name": "DescriptionStyleModel",
          "model_module_version": "1.5.0",
          "state": {
            "_model_module": "@jupyter-widgets/controls",
            "_model_module_version": "1.5.0",
            "_model_name": "DescriptionStyleModel",
            "_view_count": null,
            "_view_module": "@jupyter-widgets/base",
            "_view_module_version": "1.2.0",
            "_view_name": "StyleView",
            "description_width": ""
          }
        },
        "2e0443c3d9d6424aadf1cb3800d0e309": {
          "model_module": "@jupyter-widgets/controls",
          "model_name": "HBoxModel",
          "model_module_version": "1.5.0",
          "state": {
            "_dom_classes": [],
            "_model_module": "@jupyter-widgets/controls",
            "_model_module_version": "1.5.0",
            "_model_name": "HBoxModel",
            "_view_count": null,
            "_view_module": "@jupyter-widgets/controls",
            "_view_module_version": "1.5.0",
            "_view_name": "HBoxView",
            "box_style": "",
            "children": [
              "IPY_MODEL_9d8a6cb087c4461ba9f7ab0866477813",
              "IPY_MODEL_55fbcceb7d4344c99696c2a053016f15",
              "IPY_MODEL_d44e605f74814e69bd0414216d555ab6"
            ],
            "layout": "IPY_MODEL_517f36b3c1cd423894992669ec5f0735"
          }
        },
        "9d8a6cb087c4461ba9f7ab0866477813": {
          "model_module": "@jupyter-widgets/controls",
          "model_name": "HTMLModel",
          "model_module_version": "1.5.0",
          "state": {
            "_dom_classes": [],
            "_model_module": "@jupyter-widgets/controls",
            "_model_module_version": "1.5.0",
            "_model_name": "HTMLModel",
            "_view_count": null,
            "_view_module": "@jupyter-widgets/controls",
            "_view_module_version": "1.5.0",
            "_view_name": "HTMLView",
            "description": "",
            "description_tooltip": null,
            "layout": "IPY_MODEL_8dbf04f37c4a45868eb51b775d982a12",
            "placeholder": "​",
            "style": "IPY_MODEL_69b771fceeb7405fb4623c3ae2eaa5d7",
            "value": "Downloading: 100%"
          }
        },
        "55fbcceb7d4344c99696c2a053016f15": {
          "model_module": "@jupyter-widgets/controls",
          "model_name": "FloatProgressModel",
          "model_module_version": "1.5.0",
          "state": {
            "_dom_classes": [],
            "_model_module": "@jupyter-widgets/controls",
            "_model_module_version": "1.5.0",
            "_model_name": "FloatProgressModel",
            "_view_count": null,
            "_view_module": "@jupyter-widgets/controls",
            "_view_module_version": "1.5.0",
            "_view_name": "ProgressView",
            "bar_style": "success",
            "description": "",
            "description_tooltip": null,
            "layout": "IPY_MODEL_554e8b17aca64ca9b75f7a67cee55645",
            "max": 1389353,
            "min": 0,
            "orientation": "horizontal",
            "style": "IPY_MODEL_86813a2637b74de487782318c5f54a3d",
            "value": 1389353
          }
        },
        "d44e605f74814e69bd0414216d555ab6": {
          "model_module": "@jupyter-widgets/controls",
          "model_name": "HTMLModel",
          "model_module_version": "1.5.0",
          "state": {
            "_dom_classes": [],
            "_model_module": "@jupyter-widgets/controls",
            "_model_module_version": "1.5.0",
            "_model_name": "HTMLModel",
            "_view_count": null,
            "_view_module": "@jupyter-widgets/controls",
            "_view_module_version": "1.5.0",
            "_view_name": "HTMLView",
            "description": "",
            "description_tooltip": null,
            "layout": "IPY_MODEL_5470148f9f804d008bf3f7cbf0f42841",
            "placeholder": "​",
            "style": "IPY_MODEL_71dd0cd7093e432498ad7a9b797b4f93",
            "value": " 1.32M/1.32M [00:01&lt;00:00, 1.21MB/s]"
          }
        },
        "517f36b3c1cd423894992669ec5f0735": {
          "model_module": "@jupyter-widgets/base",
          "model_name": "LayoutModel",
          "model_module_version": "1.2.0",
          "state": {
            "_model_module": "@jupyter-widgets/base",
            "_model_module_version": "1.2.0",
            "_model_name": "LayoutModel",
            "_view_count": null,
            "_view_module": "@jupyter-widgets/base",
            "_view_module_version": "1.2.0",
            "_view_name": "LayoutView",
            "align_content": null,
            "align_items": null,
            "align_self": null,
            "border": null,
            "bottom": null,
            "display": null,
            "flex": null,
            "flex_flow": null,
            "grid_area": null,
            "grid_auto_columns": null,
            "grid_auto_flow": null,
            "grid_auto_rows": null,
            "grid_column": null,
            "grid_gap": null,
            "grid_row": null,
            "grid_template_areas": null,
            "grid_template_columns": null,
            "grid_template_rows": null,
            "height": null,
            "justify_content": null,
            "justify_items": null,
            "left": null,
            "margin": null,
            "max_height": null,
            "max_width": null,
            "min_height": null,
            "min_width": null,
            "object_fit": null,
            "object_position": null,
            "order": null,
            "overflow": null,
            "overflow_x": null,
            "overflow_y": null,
            "padding": null,
            "right": null,
            "top": null,
            "visibility": null,
            "width": null
          }
        },
        "8dbf04f37c4a45868eb51b775d982a12": {
          "model_module": "@jupyter-widgets/base",
          "model_name": "LayoutModel",
          "model_module_version": "1.2.0",
          "state": {
            "_model_module": "@jupyter-widgets/base",
            "_model_module_version": "1.2.0",
            "_model_name": "LayoutModel",
            "_view_count": null,
            "_view_module": "@jupyter-widgets/base",
            "_view_module_version": "1.2.0",
            "_view_name": "LayoutView",
            "align_content": null,
            "align_items": null,
            "align_self": null,
            "border": null,
            "bottom": null,
            "display": null,
            "flex": null,
            "flex_flow": null,
            "grid_area": null,
            "grid_auto_columns": null,
            "grid_auto_flow": null,
            "grid_auto_rows": null,
            "grid_column": null,
            "grid_gap": null,
            "grid_row": null,
            "grid_template_areas": null,
            "grid_template_columns": null,
            "grid_template_rows": null,
            "height": null,
            "justify_content": null,
            "justify_items": null,
            "left": null,
            "margin": null,
            "max_height": null,
            "max_width": null,
            "min_height": null,
            "min_width": null,
            "object_fit": null,
            "object_position": null,
            "order": null,
            "overflow": null,
            "overflow_x": null,
            "overflow_y": null,
            "padding": null,
            "right": null,
            "top": null,
            "visibility": null,
            "width": null
          }
        },
        "69b771fceeb7405fb4623c3ae2eaa5d7": {
          "model_module": "@jupyter-widgets/controls",
          "model_name": "DescriptionStyleModel",
          "model_module_version": "1.5.0",
          "state": {
            "_model_module": "@jupyter-widgets/controls",
            "_model_module_version": "1.5.0",
            "_model_name": "DescriptionStyleModel",
            "_view_count": null,
            "_view_module": "@jupyter-widgets/base",
            "_view_module_version": "1.2.0",
            "_view_name": "StyleView",
            "description_width": ""
          }
        },
        "554e8b17aca64ca9b75f7a67cee55645": {
          "model_module": "@jupyter-widgets/base",
          "model_name": "LayoutModel",
          "model_module_version": "1.2.0",
          "state": {
            "_model_module": "@jupyter-widgets/base",
            "_model_module_version": "1.2.0",
            "_model_name": "LayoutModel",
            "_view_count": null,
            "_view_module": "@jupyter-widgets/base",
            "_view_module_version": "1.2.0",
            "_view_name": "LayoutView",
            "align_content": null,
            "align_items": null,
            "align_self": null,
            "border": null,
            "bottom": null,
            "display": null,
            "flex": null,
            "flex_flow": null,
            "grid_area": null,
            "grid_auto_columns": null,
            "grid_auto_flow": null,
            "grid_auto_rows": null,
            "grid_column": null,
            "grid_gap": null,
            "grid_row": null,
            "grid_template_areas": null,
            "grid_template_columns": null,
            "grid_template_rows": null,
            "height": null,
            "justify_content": null,
            "justify_items": null,
            "left": null,
            "margin": null,
            "max_height": null,
            "max_width": null,
            "min_height": null,
            "min_width": null,
            "object_fit": null,
            "object_position": null,
            "order": null,
            "overflow": null,
            "overflow_x": null,
            "overflow_y": null,
            "padding": null,
            "right": null,
            "top": null,
            "visibility": null,
            "width": null
          }
        },
        "86813a2637b74de487782318c5f54a3d": {
          "model_module": "@jupyter-widgets/controls",
          "model_name": "ProgressStyleModel",
          "model_module_version": "1.5.0",
          "state": {
            "_model_module": "@jupyter-widgets/controls",
            "_model_module_version": "1.5.0",
            "_model_name": "ProgressStyleModel",
            "_view_count": null,
            "_view_module": "@jupyter-widgets/base",
            "_view_module_version": "1.2.0",
            "_view_name": "StyleView",
            "bar_color": null,
            "description_width": ""
          }
        },
        "5470148f9f804d008bf3f7cbf0f42841": {
          "model_module": "@jupyter-widgets/base",
          "model_name": "LayoutModel",
          "model_module_version": "1.2.0",
          "state": {
            "_model_module": "@jupyter-widgets/base",
            "_model_module_version": "1.2.0",
            "_model_name": "LayoutModel",
            "_view_count": null,
            "_view_module": "@jupyter-widgets/base",
            "_view_module_version": "1.2.0",
            "_view_name": "LayoutView",
            "align_content": null,
            "align_items": null,
            "align_self": null,
            "border": null,
            "bottom": null,
            "display": null,
            "flex": null,
            "flex_flow": null,
            "grid_area": null,
            "grid_auto_columns": null,
            "grid_auto_flow": null,
            "grid_auto_rows": null,
            "grid_column": null,
            "grid_gap": null,
            "grid_row": null,
            "grid_template_areas": null,
            "grid_template_columns": null,
            "grid_template_rows": null,
            "height": null,
            "justify_content": null,
            "justify_items": null,
            "left": null,
            "margin": null,
            "max_height": null,
            "max_width": null,
            "min_height": null,
            "min_width": null,
            "object_fit": null,
            "object_position": null,
            "order": null,
            "overflow": null,
            "overflow_x": null,
            "overflow_y": null,
            "padding": null,
            "right": null,
            "top": null,
            "visibility": null,
            "width": null
          }
        },
        "71dd0cd7093e432498ad7a9b797b4f93": {
          "model_module": "@jupyter-widgets/controls",
          "model_name": "DescriptionStyleModel",
          "model_module_version": "1.5.0",
          "state": {
            "_model_module": "@jupyter-widgets/controls",
            "_model_module_version": "1.5.0",
            "_model_name": "DescriptionStyleModel",
            "_view_count": null,
            "_view_module": "@jupyter-widgets/base",
            "_view_module_version": "1.2.0",
            "_view_name": "StyleView",
            "description_width": ""
          }
        }
      }
    }
  },
  "cells": [
    {
      "cell_type": "code",
      "execution_count": 1,
      "metadata": {
        "id": "E9ZIk69MAHh6"
      },
      "outputs": [],
      "source": [
        "import numpy as np \n",
        "import pandas as pd\n",
        "import matplotlib.pyplot as plt\n",
        "%matplotlib inline\n",
        "import re\n",
        "import ast\n",
        "import torch\n",
        "import random\n",
        "\n",
        "from sklearn.metrics import accuracy_score\n",
        "\n",
        "import seaborn as sns\n",
        "import warnings\n",
        "warnings.filterwarnings('ignore')"
      ]
    },
    {
      "cell_type": "code",
      "source": [
        "from google.colab import drive\n",
        "drive.mount('/content/drive')"
      ],
      "metadata": {
        "colab": {
          "base_uri": "https://localhost:8080/",
          "height": 0
        },
        "id": "9twLnzH_BC3h",
        "outputId": "72844a17-f618-4e10-f9c4-f2537b7e442d"
      },
      "execution_count": 2,
      "outputs": [
        {
          "output_type": "stream",
          "name": "stdout",
          "text": [
            "Mounted at /content/drive\n"
          ]
        }
      ]
    },
    {
      "cell_type": "code",
      "source": [
        "!pip install elasticsearch==7.9.1"
      ],
      "metadata": {
        "colab": {
          "base_uri": "https://localhost:8080/",
          "height": 0
        },
        "id": "s-V7UGp1BSnz",
        "outputId": "4fa85e06-edb6-45a5-b455-d9585b71a52c"
      },
      "execution_count": 3,
      "outputs": [
        {
          "output_type": "stream",
          "name": "stdout",
          "text": [
            "Looking in indexes: https://pypi.org/simple, https://us-python.pkg.dev/colab-wheels/public/simple/\n",
            "Collecting elasticsearch==7.9.1\n",
            "  Downloading elasticsearch-7.9.1-py2.py3-none-any.whl (219 kB)\n",
            "\u001b[K     |████████████████████████████████| 219 kB 4.2 MB/s \n",
            "\u001b[?25hRequirement already satisfied: urllib3>=1.21.1 in /usr/local/lib/python3.7/dist-packages (from elasticsearch==7.9.1) (1.24.3)\n",
            "Requirement already satisfied: certifi in /usr/local/lib/python3.7/dist-packages (from elasticsearch==7.9.1) (2022.6.15)\n",
            "Installing collected packages: elasticsearch\n",
            "Successfully installed elasticsearch-7.9.1\n"
          ]
        }
      ]
    },
    {
      "cell_type": "code",
      "source": [
        "!pip install tensorflow-io"
      ],
      "metadata": {
        "colab": {
          "base_uri": "https://localhost:8080/",
          "height": 0
        },
        "id": "bxt64BoUBCy1",
        "outputId": "b1c6195c-1e91-4e0a-dc6f-d65afc73d5f1"
      },
      "execution_count": 4,
      "outputs": [
        {
          "output_type": "stream",
          "name": "stdout",
          "text": [
            "Looking in indexes: https://pypi.org/simple, https://us-python.pkg.dev/colab-wheels/public/simple/\n",
            "Collecting tensorflow-io\n",
            "  Downloading tensorflow_io-0.26.0-cp37-cp37m-manylinux_2_12_x86_64.manylinux2010_x86_64.whl (25.9 MB)\n",
            "\u001b[K     |████████████████████████████████| 25.9 MB 1.4 MB/s \n",
            "\u001b[?25hRequirement already satisfied: tensorflow-io-gcs-filesystem==0.26.0 in /usr/local/lib/python3.7/dist-packages (from tensorflow-io) (0.26.0)\n",
            "Installing collected packages: tensorflow-io\n",
            "Successfully installed tensorflow-io-0.26.0\n"
          ]
        }
      ]
    },
    {
      "cell_type": "code",
      "source": [
        "%%bash\n",
        "wget -q https://artifacts.elastic.co/downloads/elasticsearch/elasticsearch-oss-7.9.1-linux-x86_64.tar.gz\n",
        "wget -q https://artifacts.elastic.co/downloads/elasticsearch/elasticsearch-oss-7.9.1-linux-x86_64.tar.gz.sha512\n",
        "tar -xzf elasticsearch-oss-7.9.1-linux-x86_64.tar.gz\n",
        "sudo chown -R daemon:daemon elasticsearch-7.9.1/\n",
        "shasum -a 512 -c elasticsearch-oss-7.9.1-linux-x86_64.tar.gz.sha512 "
      ],
      "metadata": {
        "colab": {
          "base_uri": "https://localhost:8080/",
          "height": 0
        },
        "id": "gDMKm3n9BCvA",
        "outputId": "6eb5b963-b587-41d9-f005-624ddd5044cf"
      },
      "execution_count": 5,
      "outputs": [
        {
          "output_type": "stream",
          "name": "stdout",
          "text": [
            "elasticsearch-oss-7.9.1-linux-x86_64.tar.gz: OK\n"
          ]
        }
      ]
    },
    {
      "cell_type": "code",
      "source": [
        "%%bash --bg\n",
        "\n",
        "sudo -H -u daemon elasticsearch-7.9.1/bin/elasticsearch"
      ],
      "metadata": {
        "colab": {
          "base_uri": "https://localhost:8080/",
          "height": 0
        },
        "id": "8WeAbtjCBCrE",
        "outputId": "185606ae-0307-4acc-d8e0-54dfef3e315f"
      },
      "execution_count": 6,
      "outputs": [
        {
          "output_type": "stream",
          "name": "stdout",
          "text": [
            "Starting job # 0 in a separate thread.\n"
          ]
        }
      ]
    },
    {
      "cell_type": "code",
      "source": [
        "import os\n",
        "import time\n",
        "# Sleep for few seconds to let the instance start.\n",
        "time.sleep(20)"
      ],
      "metadata": {
        "id": "6yR4yhOSBgRL"
      },
      "execution_count": 7,
      "outputs": []
    },
    {
      "cell_type": "code",
      "source": [
        "%%bash\n",
        "\n",
        "ps -ef | grep elasticsearch"
      ],
      "metadata": {
        "colab": {
          "base_uri": "https://localhost:8080/",
          "height": 0
        },
        "id": "JT7BpxuaBgOV",
        "outputId": "feab7b91-0689-45a0-de81-364b114d3e37"
      },
      "execution_count": 8,
      "outputs": [
        {
          "output_type": "stream",
          "name": "stdout",
          "text": [
            "root         402     400  0 05:01 ?        00:00:00 sudo -H -u daemon elasticsearch-7.9.1/bin/elasticsearch\n",
            "daemon       403     402 99 05:01 ?        00:00:19 /content/elasticsearch-7.9.1/jdk/bin/java -Xshare:auto -Des.networkaddress.cache.ttl=60 -Des.networkaddress.cache.negative.ttl=10 -XX:+AlwaysPreTouch -Xss1m -Djava.awt.headless=true -Dfile.encoding=UTF-8 -Djna.nosys=true -XX:-OmitStackTraceInFastThrow -XX:+ShowCodeDetailsInExceptionMessages -Dio.netty.noUnsafe=true -Dio.netty.noKeySetOptimization=true -Dio.netty.recycler.maxCapacityPerThread=0 -Dio.netty.allocator.numDirectArenas=0 -Dlog4j.shutdownHookEnabled=false -Dlog4j2.disable.jmx=true -Djava.locale.providers=SPI,COMPAT -Xms1g -Xmx1g -XX:+UseG1GC -XX:G1ReservePercent=25 -XX:InitiatingHeapOccupancyPercent=30 -Djava.io.tmpdir=/tmp/elasticsearch-17071744341045369321 -XX:+HeapDumpOnOutOfMemoryError -XX:HeapDumpPath=data -XX:ErrorFile=logs/hs_err_pid%p.log -Xlog:gc*,gc+age=trace,safepoint:file=logs/gc.log:utctime,pid,tags:filecount=32,filesize=64m -XX:MaxDirectMemorySize=536870912 -Des.path.home=/content/elasticsearch-7.9.1 -Des.path.conf=/content/elasticsearch-7.9.1/config -Des.distribution.flavor=oss -Des.distribution.type=tar -Des.bundled_jdk=true -cp /content/elasticsearch-7.9.1/lib/* org.elasticsearch.bootstrap.Elasticsearch\n",
            "root         636     634  0 05:02 ?        00:00:00 grep elasticsearch\n"
          ]
        }
      ]
    },
    {
      "cell_type": "code",
      "source": [
        "%%bash\n",
        "\n",
        "curl -sX GET \"localhost:9200/\""
      ],
      "metadata": {
        "colab": {
          "base_uri": "https://localhost:8080/",
          "height": 0
        },
        "id": "bB_FKiOKBgEu",
        "outputId": "3ea01f4f-814f-46ed-acef-7b2172803f56"
      },
      "execution_count": 9,
      "outputs": [
        {
          "output_type": "stream",
          "name": "stdout",
          "text": [
            "{\n",
            "  \"name\" : \"339d16be5d97\",\n",
            "  \"cluster_name\" : \"elasticsearch\",\n",
            "  \"cluster_uuid\" : \"vRKJZxuDR82V0CJnHwTGiQ\",\n",
            "  \"version\" : {\n",
            "    \"number\" : \"7.9.1\",\n",
            "    \"build_flavor\" : \"oss\",\n",
            "    \"build_type\" : \"tar\",\n",
            "    \"build_hash\" : \"083627f112ba94dffc1232e8b42b73492789ef91\",\n",
            "    \"build_date\" : \"2020-09-01T21:22:21.964974Z\",\n",
            "    \"build_snapshot\" : false,\n",
            "    \"lucene_version\" : \"8.6.2\",\n",
            "    \"minimum_wire_compatibility_version\" : \"6.8.0\",\n",
            "    \"minimum_index_compatibility_version\" : \"6.0.0-beta1\"\n",
            "  },\n",
            "  \"tagline\" : \"You Know, for Search\"\n",
            "}\n"
          ]
        }
      ]
    },
    {
      "cell_type": "code",
      "source": [
        "from elasticsearch import Elasticsearch\n",
        "from elasticsearch.helpers import parallel_bulk\n",
        "\n",
        "import pandas as pd\n",
        "import numpy as np\n",
        "import re"
      ],
      "metadata": {
        "id": "7iNBqgi6Bf_k"
      },
      "execution_count": 10,
      "outputs": []
    },
    {
      "cell_type": "code",
      "source": [
        "\n",
        "import json\n",
        "import time\n",
        "from functools import reduce\n",
        "import operator"
      ],
      "metadata": {
        "id": "0r8n6XYNBf7m"
      },
      "execution_count": 11,
      "outputs": []
    },
    {
      "cell_type": "code",
      "source": [
        "es = Elasticsearch([{'host':'localhost', 'port':9200}])"
      ],
      "metadata": {
        "id": "m36KqA5nB1Lc"
      },
      "execution_count": 12,
      "outputs": []
    },
    {
      "cell_type": "code",
      "source": [
        "es.ping()"
      ],
      "metadata": {
        "colab": {
          "base_uri": "https://localhost:8080/",
          "height": 0
        },
        "id": "6jCDYp76B1G3",
        "outputId": "cb3f812c-b4ca-41d3-aa18-2aea9d495cac"
      },
      "execution_count": 13,
      "outputs": [
        {
          "output_type": "execute_result",
          "data": {
            "text/plain": [
              "True"
            ]
          },
          "metadata": {},
          "execution_count": 13
        }
      ]
    },
    {
      "cell_type": "code",
      "source": [
        "corpus3 = open('drive/MyDrive/ARC/ARC_Corpus.txt', 'r', encoding='utf-8')"
      ],
      "metadata": {
        "id": "0p3HoqpvB1Cb"
      },
      "execution_count": 14,
      "outputs": []
    },
    {
      "cell_type": "code",
      "source": [
        "def create_index(es_client):\n",
        "    \"\"\" Creates an Elasticsearch index.\"\"\"\n",
        "    is_created = False\n",
        "    # Index settings\n",
        "    settings = {\n",
        "        \"settings\": {\n",
        "            \"number_of_shards\": 2,\n",
        "            \"number_of_replicas\": 1\n",
        "        },\n",
        "        \"mappings\": {\n",
        "            \"dynamic\": \"true\",\n",
        "            \"_source\": {\n",
        "            \"enabled\": \"true\"\n",
        "            },\n",
        "            \"properties\": {\n",
        "                \"body\": {\n",
        "                    \"type\": \"text\"\n",
        "                }\n",
        "            }\n",
        "        }\n",
        "    }\n",
        "    print('Creating `corpus3` index...')\n",
        "    try:\n",
        "        if es_client.indices.exists('corpus3'):\n",
        "            es_client.indices.delete(index='corpus3', ignore=[404])\n",
        "        es_client.indices.create(index='corpus3', body=settings)\n",
        "        is_created = True\n",
        "        print('index `corpus3` created successfully.')\n",
        "    except Exception as ex:\n",
        "        print(str(ex))\n",
        "    finally:\n",
        "        return is_created\n",
        "    return is_created"
      ],
      "metadata": {
        "id": "I7JDFz0aB0-M"
      },
      "execution_count": 15,
      "outputs": []
    },
    {
      "cell_type": "code",
      "source": [
        "create_index(es)"
      ],
      "metadata": {
        "colab": {
          "base_uri": "https://localhost:8080/",
          "height": 0
        },
        "id": "EWfcMCUBCLeV",
        "outputId": "24578efe-5dff-4573-b017-b30a60d50841"
      },
      "execution_count": 16,
      "outputs": [
        {
          "output_type": "stream",
          "name": "stdout",
          "text": [
            "Creating `corpus3` index...\n",
            "index `corpus3` created successfully.\n"
          ]
        },
        {
          "output_type": "execute_result",
          "data": {
            "text/plain": [
              "True"
            ]
          },
          "metadata": {},
          "execution_count": 16
        }
      ]
    },
    {
      "cell_type": "code",
      "source": [
        "from elasticsearch.helpers import bulk\n",
        "def index_batch(docs):\n",
        "    \"\"\" Indexes a batch of documents.\"\"\"\n",
        "    requests = []\n",
        "    for i, doc in enumerate(docs):\n",
        "        request = doc\n",
        "        request[\"_op_type\"] = \"index\"\n",
        "        request[\"_index\"] = 'corpus3'\n",
        "        request[\"body\"] = doc['body']\n",
        "        requests.append(request)\n",
        "    bulk(es, requests)"
      ],
      "metadata": {
        "id": "6amK_zbFCLaY"
      },
      "execution_count": 17,
      "outputs": []
    },
    {
      "cell_type": "code",
      "source": [
        "def index_data(es_client, data, BATCH_SIZE=100000):\n",
        "    \"\"\" Indexs all the rows in data (python questions).\"\"\"\n",
        "    docs = []\n",
        "    count = 0\n",
        "    for line in data:\n",
        "        js_object = {}\n",
        "        js_object['body'] = line\n",
        "        docs.append(js_object)\n",
        "        count += 1\n",
        "\n",
        "        if count % BATCH_SIZE == 0:\n",
        "            index_batch(docs)\n",
        "            docs = []\n",
        "            print('Indexed {} documents.'.format(count))\n",
        "    if docs:\n",
        "        index_batch(docs)\n",
        "        print('Indexed {} documents.'.format(count))\n",
        "\n",
        "    es_client.indices.refresh(index='corpus3')\n",
        "    print(\"Done indexing.\")"
      ],
      "metadata": {
        "id": "WY05M5TQCLVb"
      },
      "execution_count": 18,
      "outputs": []
    },
    {
      "cell_type": "code",
      "source": [
        "index_data(es,corpus3.readlines(), BATCH_SIZE=100000)"
      ],
      "metadata": {
        "colab": {
          "base_uri": "https://localhost:8080/",
          "height": 0
        },
        "id": "LVGTEBmACLRy",
        "outputId": "5590397f-d231-4f62-e809-35cdea977f8f"
      },
      "execution_count": 19,
      "outputs": [
        {
          "output_type": "stream",
          "name": "stdout",
          "text": [
            "Indexed 100000 documents.\n",
            "Indexed 200000 documents.\n",
            "Indexed 300000 documents.\n",
            "Indexed 400000 documents.\n",
            "Indexed 500000 documents.\n",
            "Indexed 600000 documents.\n",
            "Indexed 700000 documents.\n",
            "Indexed 800000 documents.\n",
            "Indexed 900000 documents.\n",
            "Indexed 1000000 documents.\n",
            "Indexed 1100000 documents.\n",
            "Indexed 1200000 documents.\n",
            "Indexed 1300000 documents.\n",
            "Indexed 1400000 documents.\n",
            "Indexed 1500000 documents.\n",
            "Indexed 1600000 documents.\n",
            "Indexed 1700000 documents.\n",
            "Indexed 1800000 documents.\n",
            "Indexed 1900000 documents.\n",
            "Indexed 2000000 documents.\n",
            "Indexed 2100000 documents.\n",
            "Indexed 2200000 documents.\n",
            "Indexed 2300000 documents.\n",
            "Indexed 2400000 documents.\n",
            "Indexed 2500000 documents.\n",
            "Indexed 2600000 documents.\n",
            "Indexed 2700000 documents.\n",
            "Indexed 2800000 documents.\n",
            "Indexed 2900000 documents.\n",
            "Indexed 3000000 documents.\n",
            "Indexed 3100000 documents.\n",
            "Indexed 3200000 documents.\n",
            "Indexed 3300000 documents.\n",
            "Indexed 3400000 documents.\n",
            "Indexed 3500000 documents.\n",
            "Indexed 3600000 documents.\n",
            "Indexed 3700000 documents.\n",
            "Indexed 3800000 documents.\n",
            "Indexed 3900000 documents.\n",
            "Indexed 4000000 documents.\n",
            "Indexed 4100000 documents.\n",
            "Indexed 4200000 documents.\n",
            "Indexed 4300000 documents.\n",
            "Indexed 4400000 documents.\n",
            "Indexed 4500000 documents.\n",
            "Indexed 4600000 documents.\n",
            "Indexed 4700000 documents.\n",
            "Indexed 4800000 documents.\n",
            "Indexed 4900000 documents.\n",
            "Indexed 5000000 documents.\n",
            "Indexed 5100000 documents.\n",
            "Indexed 5200000 documents.\n",
            "Indexed 5300000 documents.\n",
            "Indexed 5400000 documents.\n",
            "Indexed 5500000 documents.\n",
            "Indexed 5600000 documents.\n",
            "Indexed 5700000 documents.\n",
            "Indexed 5800000 documents.\n",
            "Indexed 5900000 documents.\n",
            "Indexed 6000000 documents.\n",
            "Indexed 6100000 documents.\n",
            "Indexed 6200000 documents.\n",
            "Indexed 6300000 documents.\n",
            "Indexed 6400000 documents.\n",
            "Indexed 6500000 documents.\n",
            "Indexed 6600000 documents.\n",
            "Indexed 6700000 documents.\n",
            "Indexed 6800000 documents.\n",
            "Indexed 6900000 documents.\n",
            "Indexed 7000000 documents.\n",
            "Indexed 7100000 documents.\n",
            "Indexed 7200000 documents.\n",
            "Indexed 7300000 documents.\n",
            "Indexed 7400000 documents.\n",
            "Indexed 7500000 documents.\n",
            "Indexed 7600000 documents.\n",
            "Indexed 7700000 documents.\n",
            "Indexed 7800000 documents.\n",
            "Indexed 7900000 documents.\n",
            "Indexed 8000000 documents.\n",
            "Indexed 8100000 documents.\n",
            "Indexed 8200000 documents.\n",
            "Indexed 8300000 documents.\n",
            "Indexed 8400000 documents.\n",
            "Indexed 8500000 documents.\n",
            "Indexed 8600000 documents.\n",
            "Indexed 8700000 documents.\n",
            "Indexed 8800000 documents.\n",
            "Indexed 8900000 documents.\n",
            "Indexed 9000000 documents.\n",
            "Indexed 9100000 documents.\n",
            "Indexed 9200000 documents.\n",
            "Indexed 9300000 documents.\n",
            "Indexed 9400000 documents.\n",
            "Indexed 9500000 documents.\n",
            "Indexed 9600000 documents.\n",
            "Indexed 9700000 documents.\n",
            "Indexed 9800000 documents.\n",
            "Indexed 9900000 documents.\n",
            "Indexed 10000000 documents.\n",
            "Indexed 10100000 documents.\n",
            "Indexed 10200000 documents.\n",
            "Indexed 10300000 documents.\n",
            "Indexed 10400000 documents.\n",
            "Indexed 10500000 documents.\n",
            "Indexed 10600000 documents.\n",
            "Indexed 10700000 documents.\n",
            "Indexed 10800000 documents.\n",
            "Indexed 10900000 documents.\n",
            "Indexed 11000000 documents.\n",
            "Indexed 11100000 documents.\n",
            "Indexed 11200000 documents.\n",
            "Indexed 11300000 documents.\n",
            "Indexed 11400000 documents.\n",
            "Indexed 11500000 documents.\n",
            "Indexed 11600000 documents.\n",
            "Indexed 11700000 documents.\n",
            "Indexed 11800000 documents.\n",
            "Indexed 11900000 documents.\n",
            "Indexed 12000000 documents.\n",
            "Indexed 12100000 documents.\n",
            "Indexed 12200000 documents.\n",
            "Indexed 12300000 documents.\n",
            "Indexed 12400000 documents.\n",
            "Indexed 12500000 documents.\n",
            "Indexed 12600000 documents.\n",
            "Indexed 12700000 documents.\n",
            "Indexed 12800000 documents.\n",
            "Indexed 12900000 documents.\n",
            "Indexed 13000000 documents.\n",
            "Indexed 13100000 documents.\n",
            "Indexed 13200000 documents.\n",
            "Indexed 13300000 documents.\n",
            "Indexed 13400000 documents.\n",
            "Indexed 13500000 documents.\n",
            "Indexed 13600000 documents.\n",
            "Indexed 13700000 documents.\n",
            "Indexed 13800000 documents.\n",
            "Indexed 13900000 documents.\n",
            "Indexed 14000000 documents.\n",
            "Indexed 14100000 documents.\n",
            "Indexed 14200000 documents.\n",
            "Indexed 14300000 documents.\n",
            "Indexed 14400000 documents.\n",
            "Indexed 14500000 documents.\n",
            "Indexed 14600000 documents.\n",
            "Indexed 14621856 documents.\n",
            "Done indexing.\n"
          ]
        }
      ]
    },
    {
      "cell_type": "code",
      "source": [
        "def extract_question(question):\n",
        "    '''\n",
        "    This function will take a value in question column then, will split the string \n",
        "    at (A) or (1). After splitting we will take only first part which is the question.\n",
        "    '''\n",
        "    if '(A)' in question:\n",
        "        x = question.split('(A)')[0]\n",
        "    elif '(1)' in question:\n",
        "        x = question.split('(1)')[0]\n",
        "\n",
        "    return x"
      ],
      "metadata": {
        "id": "N_ZeP0GwCLM0"
      },
      "execution_count": 20,
      "outputs": []
    },
    {
      "cell_type": "code",
      "source": [
        "def extract_answers(question):\n",
        "    '''\n",
        "    This function will take a value in question column then, will split the string \n",
        "    at (A) or (1). After splitting we will take only first part which is the question.\n",
        "    '''\n",
        "    if '(A)' in question:\n",
        "        x = '(A) ' + question.split('(A)')[1]\n",
        "    elif '(1)' in question:\n",
        "        x = '(1) ' + question.split('(1)')[1]\n",
        "\n",
        "    return x"
      ],
      "metadata": {
        "id": "wYnqtMRHCLHp"
      },
      "execution_count": 21,
      "outputs": []
    },
    {
      "cell_type": "code",
      "source": [
        "def data_generator(a):\n",
        "    '''\n",
        "    This function will accept a data point and returns a list of options\n",
        "    converts the only_options list of options.\n",
        "\n",
        "    Output will be as follows:\n",
        "\n",
        "    options = [option_1, option_2, option_3, option_4, option_5]                   \n",
        "\n",
        "    Note: If there's no option E then it will be written as 'None of the above'.\n",
        "    '''\n",
        "    options = []\n",
        "\n",
        "    if '(A)' in a:\n",
        "        option_1 = a.split('(B)')[0].replace('(A)','').lstrip()\n",
        "\n",
        "        b = ' '.join(i for i in a.split() if i not in option_1)\n",
        "        option_2 = b.split('(C)')[0].replace('(B)','').replace('(A)','').lstrip()\n",
        "\n",
        "        c = ' '.join(i for i in b.split() if i not in option_2)\n",
        "        option_3 = c.split('(D)')[0].replace('(C)','').replace('(B)','').replace('(A)','').lstrip()\n",
        "\n",
        "        if '(D)' not in c:\n",
        "            option_4 = 'None of the above'\n",
        "            option_5 = 'None of the above'\n",
        "        else:\n",
        "            if '(E)' not in c:\n",
        "                option_4 = c.split('(D)')[1].lstrip()\n",
        "                option_5 = 'None of the above'\n",
        "            else:\n",
        "                d = ' '.join(i for i in c.split() if i not in option_3)\n",
        "                option_4 = d.split('(E)')[0].replace('(D)','').replace('(C)','').replace('(B)','').replace('(A)','').lstrip()\n",
        "                option_5 = d.split('(E)')[1].lstrip()\n",
        "    else:\n",
        "        option_1 = a.split('(2)')[0].replace('(1)','').lstrip()\n",
        "\n",
        "        b = ' '.join(i for i in a.split() if i not in option_1)\n",
        "        option_2 = b.split('(3)')[0].replace('(2)','').replace('(1)','').lstrip()\n",
        "\n",
        "        c = ' '.join(i for i in b.split() if i not in option_2)\n",
        "        option_3 = c.split('(4)')[0].replace('(3)','').replace('(2)','').replace('(1)','').lstrip()\n",
        "\n",
        "        if '(4)' in c:\n",
        "            option_4 = c.split('(4)')[1].lstrip()\n",
        "        else:\n",
        "            option_4 = 'None of the above'\n",
        "        option_5 = 'None of the above'\n",
        "\n",
        "    options = [option_1, option_2, option_3, option_4, option_5]\n",
        "\n",
        "    return options\n"
      ],
      "metadata": {
        "id": "9GhLRntJCLEB"
      },
      "execution_count": 22,
      "outputs": []
    },
    {
      "cell_type": "code",
      "source": [
        "def get_context(question, options):\n",
        "    '''\n",
        "    This function will return a context after joining a question\n",
        "    and its options separately. \n",
        "    For example: question + option_1\n",
        "                 question + option_2\n",
        "                 question + option_3\n",
        "                 question + option_4\n",
        "   '''\n",
        "    scores = []\n",
        "    sentences = []\n",
        "    choices = []\n",
        "    \n",
        "    #Dividing options into separate parts.\n",
        "    if '(A)' in options:\n",
        "\n",
        "        split_1 = options.split('(B)')\n",
        "        option_1 = split_1[0].replace('(A)','')\n",
        "        choices.append(option_1)\n",
        "\n",
        "        split_2 = split_1[1].split('(C)')\n",
        "        option_2 = split_2[0]\n",
        "        choices.append(option_2)\n",
        "\n",
        "        if '(D)' not in split_2[1]:\n",
        "            option_3 = split_2[1]\n",
        "            choices.append(option_3)\n",
        "\n",
        "        elif '(D)' in split_2[1]:\n",
        "            split_3 = split_2[1].split('(D)')\n",
        "            option_3 = split_3[0]\n",
        "            choices.append(option_3)\n",
        "\n",
        "            if '(E)' not in split_3[1]:\n",
        "                option_4 = split_3[1]\n",
        "                choices.append(option_4)\n",
        "\n",
        "            else:\n",
        "                split_4 = split_3[1].split('(E)')\n",
        "                option_4 = split_4[0]\n",
        "                choices.append(option_4)\n",
        "\n",
        "                option_5 = split_4[1]\n",
        "                choices.append(option_5)\n",
        "    else:\n",
        "        split_1 = options.split('(2)')\n",
        "        option_1 = split_1[0].replace('(1)','')\n",
        "        choices.append(option_1)\n",
        "\n",
        "        split_2 = split_1[1].split('(3)')\n",
        "        option_2 = split_2[0]\n",
        "        choices.append(option_2)\n",
        "\n",
        "        if '(4)' not in split_2[1]:\n",
        "            option_3 = split_2[1]\n",
        "            choices.append(option_3)\n",
        "\n",
        "        elif '(4)' in split_2[1]:\n",
        "            split_3 = split_2[1].split('(4)')\n",
        "            option_3 = split_3[0]\n",
        "            choices.append(option_3)\n",
        "\n",
        "            if '(5)' not in split_3[1]:\n",
        "                option_4 = split_3[1]\n",
        "                choices.append(option_4)\n",
        "\n",
        "            else:\n",
        "                split_4 = split_3[1].split('(5)')\n",
        "                option_4 = split_4[0]\n",
        "                choices.append(option_4)\n",
        "\n",
        "                option_5 = split_4[1]\n",
        "                choices.append(option_5)\n",
        "    \n",
        "    for i in [choices]:\n",
        "  \n",
        "        query=question+f'{i}'\n",
        "        search_start = time.time()\n",
        "        search = {\"size\":20,\"query\": {\"match\": {\"body\": query}}}\n",
        "        #print(search)\n",
        "        response = es.search(index='corpus3', body=json.dumps(search))\n",
        "        search_time = time.time() - search_start\n",
        "        #print(\"{} total hits.\".format(response[\"hits\"][\"total\"][\"value\"]))\n",
        "        #print(\"search time: {:.2f} ms\".format(search_time * 1000))\n",
        "\n",
        "        #Searching in the 'corpus' index.\n",
        "        a = es.search(index='corpus3', body=json.dumps(search))\n",
        "\n",
        "        for j in a['hits']['hits']:\n",
        "            sentence = j['_source']\n",
        "            out=list(sentence.values())\n",
        "            out = reduce(operator.concat,out)\n",
        "            sentences.append(out)\n",
        "\n",
        "   \n",
        "    \n",
        "    context= ' '.join(sentences) #Selecting top 20 sentences for the context.\n",
        "    \n",
        "    return context"
      ],
      "metadata": {
        "id": "b80uImHmCLAn"
      },
      "execution_count": 23,
      "outputs": []
    },
    {
      "cell_type": "code",
      "source": [
        "!pip install transformers"
      ],
      "metadata": {
        "colab": {
          "base_uri": "https://localhost:8080/",
          "height": 0
        },
        "id": "Xz7DMq-lHPCS",
        "outputId": "df8c7184-ce86-4168-81cd-40a600f32faa"
      },
      "execution_count": 24,
      "outputs": [
        {
          "output_type": "stream",
          "name": "stdout",
          "text": [
            "Looking in indexes: https://pypi.org/simple, https://us-python.pkg.dev/colab-wheels/public/simple/\n",
            "Collecting transformers\n",
            "  Downloading transformers-4.20.1-py3-none-any.whl (4.4 MB)\n",
            "\u001b[K     |████████████████████████████████| 4.4 MB 4.2 MB/s \n",
            "\u001b[?25hRequirement already satisfied: regex!=2019.12.17 in /usr/local/lib/python3.7/dist-packages (from transformers) (2022.6.2)\n",
            "Requirement already satisfied: packaging>=20.0 in /usr/local/lib/python3.7/dist-packages (from transformers) (21.3)\n",
            "Collecting huggingface-hub<1.0,>=0.1.0\n",
            "  Downloading huggingface_hub-0.8.1-py3-none-any.whl (101 kB)\n",
            "\u001b[K     |████████████████████████████████| 101 kB 13.0 MB/s \n",
            "\u001b[?25hRequirement already satisfied: tqdm>=4.27 in /usr/local/lib/python3.7/dist-packages (from transformers) (4.64.0)\n",
            "Collecting tokenizers!=0.11.3,<0.13,>=0.11.1\n",
            "  Downloading tokenizers-0.12.1-cp37-cp37m-manylinux_2_12_x86_64.manylinux2010_x86_64.whl (6.6 MB)\n",
            "\u001b[K     |████████████████████████████████| 6.6 MB 52.5 MB/s \n",
            "\u001b[?25hRequirement already satisfied: requests in /usr/local/lib/python3.7/dist-packages (from transformers) (2.23.0)\n",
            "Collecting pyyaml>=5.1\n",
            "  Downloading PyYAML-6.0-cp37-cp37m-manylinux_2_5_x86_64.manylinux1_x86_64.manylinux_2_12_x86_64.manylinux2010_x86_64.whl (596 kB)\n",
            "\u001b[K     |████████████████████████████████| 596 kB 79.6 MB/s \n",
            "\u001b[?25hRequirement already satisfied: numpy>=1.17 in /usr/local/lib/python3.7/dist-packages (from transformers) (1.21.6)\n",
            "Requirement already satisfied: importlib-metadata in /usr/local/lib/python3.7/dist-packages (from transformers) (4.11.4)\n",
            "Requirement already satisfied: filelock in /usr/local/lib/python3.7/dist-packages (from transformers) (3.7.1)\n",
            "Requirement already satisfied: typing-extensions>=3.7.4.3 in /usr/local/lib/python3.7/dist-packages (from huggingface-hub<1.0,>=0.1.0->transformers) (4.1.1)\n",
            "Requirement already satisfied: pyparsing!=3.0.5,>=2.0.2 in /usr/local/lib/python3.7/dist-packages (from packaging>=20.0->transformers) (3.0.9)\n",
            "Requirement already satisfied: zipp>=0.5 in /usr/local/lib/python3.7/dist-packages (from importlib-metadata->transformers) (3.8.0)\n",
            "Requirement already satisfied: urllib3!=1.25.0,!=1.25.1,<1.26,>=1.21.1 in /usr/local/lib/python3.7/dist-packages (from requests->transformers) (1.24.3)\n",
            "Requirement already satisfied: idna<3,>=2.5 in /usr/local/lib/python3.7/dist-packages (from requests->transformers) (2.10)\n",
            "Requirement already satisfied: certifi>=2017.4.17 in /usr/local/lib/python3.7/dist-packages (from requests->transformers) (2022.6.15)\n",
            "Requirement already satisfied: chardet<4,>=3.0.2 in /usr/local/lib/python3.7/dist-packages (from requests->transformers) (3.0.4)\n",
            "Installing collected packages: pyyaml, tokenizers, huggingface-hub, transformers\n",
            "  Attempting uninstall: pyyaml\n",
            "    Found existing installation: PyYAML 3.13\n",
            "    Uninstalling PyYAML-3.13:\n",
            "      Successfully uninstalled PyYAML-3.13\n",
            "Successfully installed huggingface-hub-0.8.1 pyyaml-6.0 tokenizers-0.12.1 transformers-4.20.1\n"
          ]
        }
      ]
    },
    {
      "cell_type": "code",
      "source": [
        "from transformers import T5ForConditionalGeneration,AdamW\n",
        "\n",
        "model = T5ForConditionalGeneration.from_pretrained('/content/drive/MyDrive/Unified_QA_2/')"
      ],
      "metadata": {
        "id": "-ghfZB47CK9R"
      },
      "execution_count": 25,
      "outputs": []
    },
    {
      "cell_type": "code",
      "source": [
        "from transformers import AutoTokenizer\n",
        "\n",
        "tokenizer = AutoTokenizer.from_pretrained(\"t5-small\")"
      ],
      "metadata": {
        "colab": {
          "base_uri": "https://localhost:8080/",
          "height": 113,
          "referenced_widgets": [
            "3c958a9658484237b6c37d1953b2dea7",
            "2f9fb3b415b249cab54af9ff64b9a111",
            "bd23d5df7d0846a0938368f4f783e175",
            "61915dc9b51444f09325d20553dfc5a7",
            "40614a7469364d3a8aa68ba3fef3af8d",
            "ed24b686e23b488e8a425fcf0027a14b",
            "4f3ef22de24d484aa0bcf6b9c4acd235",
            "2b6a57e1758f4e8baa90193a0f7a28fa",
            "ccee669584de4c659f7c34c4c8075b16",
            "f54c7c2f73f743f8a6b49a89d4fe425f",
            "d62ae2ada35546a9b4194229d85e2446",
            "9115fe7fd0bd478fad66c84c10437d8b",
            "e3d8deac3d6040989f59c588ea672c94",
            "84b18373f03d4f3b9eae74b10cdf97b1",
            "2aff349d336347a0865bbafe25b0de63",
            "c6fdf9bfe7664646aa550faa515b7547",
            "529b71f5e08c495e8126baa03c47805f",
            "54c3d3131fd5498891e67d462f77bc99",
            "c1b90d73fd2e4b73919a092ceb5148fd",
            "92a6174b71a24c97952d8f8a2db0f03c",
            "6e1b5555d33043d1862c0f58ee09ef8a",
            "4a68a161301a4207afe36c178ca28be1",
            "2e0443c3d9d6424aadf1cb3800d0e309",
            "9d8a6cb087c4461ba9f7ab0866477813",
            "55fbcceb7d4344c99696c2a053016f15",
            "d44e605f74814e69bd0414216d555ab6",
            "517f36b3c1cd423894992669ec5f0735",
            "8dbf04f37c4a45868eb51b775d982a12",
            "69b771fceeb7405fb4623c3ae2eaa5d7",
            "554e8b17aca64ca9b75f7a67cee55645",
            "86813a2637b74de487782318c5f54a3d",
            "5470148f9f804d008bf3f7cbf0f42841",
            "71dd0cd7093e432498ad7a9b797b4f93"
          ]
        },
        "id": "jW9dpnv-IAhW",
        "outputId": "7b396fb2-80ad-4b9f-c6d2-ec3661ebf5f8"
      },
      "execution_count": 26,
      "outputs": [
        {
          "output_type": "display_data",
          "data": {
            "text/plain": [
              "Downloading:   0%|          | 0.00/1.17k [00:00<?, ?B/s]"
            ],
            "application/vnd.jupyter.widget-view+json": {
              "version_major": 2,
              "version_minor": 0,
              "model_id": "3c958a9658484237b6c37d1953b2dea7"
            }
          },
          "metadata": {}
        },
        {
          "output_type": "display_data",
          "data": {
            "text/plain": [
              "Downloading:   0%|          | 0.00/773k [00:00<?, ?B/s]"
            ],
            "application/vnd.jupyter.widget-view+json": {
              "version_major": 2,
              "version_minor": 0,
              "model_id": "9115fe7fd0bd478fad66c84c10437d8b"
            }
          },
          "metadata": {}
        },
        {
          "output_type": "display_data",
          "data": {
            "text/plain": [
              "Downloading:   0%|          | 0.00/1.32M [00:00<?, ?B/s]"
            ],
            "application/vnd.jupyter.widget-view+json": {
              "version_major": 2,
              "version_minor": 0,
              "model_id": "2e0443c3d9d6424aadf1cb3800d0e309"
            }
          },
          "metadata": {}
        }
      ]
    },
    {
      "cell_type": "code",
      "source": [
        "def run_model(input_ids, **generator_args):\n",
        "    global tokenizer\n",
        "    res = model.generate(input_ids, **generator_args)\n",
        "    return [tokenizer.decode(x) for x in res]"
      ],
      "metadata": {
        "id": "muOeUvEkCK5l"
      },
      "execution_count": 27,
      "outputs": []
    },
    {
      "cell_type": "code",
      "source": [
        "device = 'cpu'"
      ],
      "metadata": {
        "id": "qMKjEEINJAJW"
      },
      "execution_count": 28,
      "outputs": []
    },
    {
      "cell_type": "code",
      "source": [
        "def predict(array_of_input_ids, options_list):\n",
        "    '''\n",
        "    This function takes list of string. Each string is a pair of question and \n",
        "    answers separated using \\n(all lower cased). \n",
        "    For example: \n",
        "    which of the following is an example of a physical change? \\n (a) lighting a match (b) breaking a glass (c) burning of gasoline (d) rusting of iron\n",
        "\n",
        "    label_map = {'A':0,\n",
        "                'B':1,\n",
        "                'C':2,\n",
        "                'D':3,\n",
        "                'E':4,\n",
        "                '1':0,\n",
        "                '2':1,\n",
        "                '3':2,\n",
        "                '4':3,\n",
        "                '5':4}\n",
        "\n",
        "    This function will return predicted option. All answers are converted to 0, 1, 2, 3 and 4. \n",
        "\n",
        "    '''\n",
        "\n",
        "    # Converting input ids to torch tensor of Long type.\n",
        "    input_ids = array_of_input_ids.type(torch.LongTensor).to(device)\n",
        "\n",
        "    pred = run_model(input_ids.reshape((1,-1)))[0] #Reshaping because model takes input like (batch_size, sequence_length)\n",
        "\n",
        "    #Pred is in the form like '<pad> answer </s>'. So we have to remove <pad> and </s>.\n",
        "    pred = pred.replace('<pad>','')\n",
        "    pred = pred.replace('</s>','')\n",
        "    pred = pred.lstrip()\n",
        "\n",
        "    label = None\n",
        "    for j in range(len(options_list)):\n",
        "        if pred in options_list[j]:\n",
        "            label = j\n",
        "\n",
        "    if label == None:\n",
        "        label = random.randint(0,4)       \n",
        "\n",
        "    return pred, label"
      ],
      "metadata": {
        "id": "k4gJ1nCGCK2L"
      },
      "execution_count": 29,
      "outputs": []
    },
    {
      "cell_type": "code",
      "source": [
        "MAX_LEN = 128"
      ],
      "metadata": {
        "id": "T64_LGL5CKyO"
      },
      "execution_count": 30,
      "outputs": []
    },
    {
      "cell_type": "code",
      "source": [
        "def final_fun_1(question):\n",
        "    '''\n",
        "    The ARC dataset contains question in the following format:\n",
        "    \n",
        "    Which factor will most likely cause a person to develop a fever?  (A) a leg muscle relaxing after exercise \\\n",
        "    (B) a bacterial population in the bloodstream (C) several viral particles on the skin \\\n",
        "    (D) carbohydrates being digested in the stomach\n",
        "    \n",
        "    As we can see here in raw form question contains options within it.\n",
        "    \n",
        "    Thus we will take question in same format.\n",
        "    '''\n",
        "    only_question = extract_question(question)\n",
        "    only_answers = extract_answers(question)\n",
        "    options_list = data_generator(only_answers)\n",
        "    \n",
        "    context = get_context(only_question,only_answers)\n",
        "  \n",
        "    input_string = only_question + '\\\\n ' + only_answers + '\\\\n ' + context + ' </s>'\n",
        "    \n",
        "    input_ids = tokenizer.encode(input_string, truncation=True, max_length=MAX_LEN, return_tensors='pt')\n",
        "    \n",
        "    pred = predict(input_ids, options_list)\n",
        "    \n",
        "    return pred"
      ],
      "metadata": {
        "id": "O-U7WQf5CKtx"
      },
      "execution_count": 31,
      "outputs": []
    },
    {
      "cell_type": "code",
      "source": [
        "pred_1 = final_fun_1('Rocks are classified as igneous, metamorphic, or sedimentary according to (1) their color (2) their shape (3) how they formed (4) the minerals they contain')"
      ],
      "metadata": {
        "id": "ZSWa_7sdNxmg"
      },
      "execution_count": null,
      "outputs": []
    },
    {
      "cell_type": "code",
      "source": [
        "pred_1"
      ],
      "metadata": {
        "colab": {
          "base_uri": "https://localhost:8080/"
        },
        "id": "GYsXNOoMB029",
        "outputId": "d07a74ff-dcf0-48fc-b7f9-e80b5fade451"
      },
      "execution_count": null,
      "outputs": [
        {
          "output_type": "execute_result",
          "data": {
            "text/plain": [
              "('how they formed', 2)"
            ]
          },
          "metadata": {},
          "execution_count": 49
        }
      ]
    },
    {
      "cell_type": "code",
      "source": [
        "pred_2 = final_fun_1('Many states require vehicles to be examined and to meet safety and pollution standards. What impact might vehicle inspections have on the environment? (A) The environment will not be polluted. (B) The environment will become more polluted. (C) Fewer pollutants will be released by vehicles. (D) Fewer pollutants will be produced by older vehicles.')"
      ],
      "metadata": {
        "id": "CjdKF8DSNmRO"
      },
      "execution_count": 34,
      "outputs": []
    },
    {
      "cell_type": "code",
      "source": [
        "pred_2"
      ],
      "metadata": {
        "colab": {
          "base_uri": "https://localhost:8080/",
          "height": 0
        },
        "id": "WmujyQFINmMi",
        "outputId": "773c1d4e-9b3d-4db2-f2d9-09d3d8eeb4bf"
      },
      "execution_count": 35,
      "outputs": [
        {
          "output_type": "execute_result",
          "data": {
            "text/plain": [
              "('Fewer pollutants will be released by vehicles.', 2)"
            ]
          },
          "metadata": {},
          "execution_count": 35
        }
      ]
    },
    {
      "cell_type": "code",
      "source": [
        "pred_3 = final_fun_1('When a compression wave travels through a medium, in what direction is the medium displaced? (A) upward (B) downward (C) in the same direction (D) in the opposite direction')"
      ],
      "metadata": {
        "id": "Xy2r954rNl3M"
      },
      "execution_count": 36,
      "outputs": []
    },
    {
      "cell_type": "code",
      "source": [
        "pred_3"
      ],
      "metadata": {
        "colab": {
          "base_uri": "https://localhost:8080/",
          "height": 0
        },
        "id": "yRjvcnrINlvL",
        "outputId": "7e426f1b-a05c-4c89-e93f-89027abd779a"
      },
      "execution_count": 37,
      "outputs": [
        {
          "output_type": "execute_result",
          "data": {
            "text/plain": [
              "('the same direction', 2)"
            ]
          },
          "metadata": {},
          "execution_count": 37
        }
      ]
    },
    {
      "cell_type": "code",
      "source": [
        "pred_4 = final_fun_1('Which list gives the correct order of substances from the lowest melting point to the highest? (A) oxygen, water, iron (B) water, iron, oxygen (C) oxygen, iron, water (D) iron, oxygen, water')"
      ],
      "metadata": {
        "id": "0G1kKEXANlgH"
      },
      "execution_count": 38,
      "outputs": []
    },
    {
      "cell_type": "code",
      "source": [
        "pred_4"
      ],
      "metadata": {
        "colab": {
          "base_uri": "https://localhost:8080/",
          "height": 0
        },
        "id": "7RVeGYtUNlaO",
        "outputId": "c3de777f-a834-4765-aa8b-aaabcd8e38bc"
      },
      "execution_count": 39,
      "outputs": [
        {
          "output_type": "execute_result",
          "data": {
            "text/plain": [
              "('oxygen, water, iron', 0)"
            ]
          },
          "metadata": {},
          "execution_count": 39
        }
      ]
    },
    {
      "cell_type": "code",
      "source": [
        "pred_5 = final_fun_1('The radioactive isotope content of a rock can be used to identify which property of the rock? (A) the total mass of the rock (B) the rate at which the rock formed (C) the types of fossils that the rock contains (D) the amount of time passed since the rock formed')"
      ],
      "metadata": {
        "id": "bopdoN4SNlGH"
      },
      "execution_count": 52,
      "outputs": []
    },
    {
      "cell_type": "code",
      "source": [
        "pred_5"
      ],
      "metadata": {
        "colab": {
          "base_uri": "https://localhost:8080/",
          "height": 0
        },
        "id": "CkR1b12QNk9m",
        "outputId": "3c5a0753-ecf3-4f35-eea3-70ad770cea0f"
      },
      "execution_count": 53,
      "outputs": [
        {
          "output_type": "execute_result",
          "data": {
            "text/plain": [
              "('amount of time passed since', 3)"
            ]
          },
          "metadata": {},
          "execution_count": 53
        }
      ]
    },
    {
      "cell_type": "code",
      "source": [
        "def final_fun_2(questions, labels):\n",
        "    '''\n",
        "    The ARC dataset contains question in the following format:\n",
        "    \n",
        "    Which factor will most likely cause a person to develop a fever?  (A) a leg muscle relaxing after exercise \\\n",
        "    (B) a bacterial population in the bloodstream (C) several viral particles on the skin \\\n",
        "    (D) carbohydrates being digested in the stomach\n",
        "    \n",
        "    As we can see here in raw form question contains options within it.\n",
        "    \n",
        "    Thus we will take question in same format.\n",
        "    '''\n",
        "    pred_labels = []\n",
        "    \n",
        "    for i in range(len(questions)):\n",
        "        \n",
        "        only_question = extract_question(questions[i])\n",
        "        only_answers = extract_answers(questions[i])\n",
        "        options_list = data_generator(only_answers)\n",
        "\n",
        "        context = get_context(only_question,only_answers)\n",
        "  \n",
        "        input_string = only_question + '\\\\n ' + only_answers + '\\\\n ' + context + ' </s>'\n",
        "\n",
        "        input_ids = tokenizer.encode(input_string, truncation=True, max_length=MAX_LEN, return_tensors='pt')\n",
        "\n",
        "        pred, label = predict(input_ids, options_list)\n",
        "        \n",
        "        pred_labels.append(label)\n",
        "    \n",
        "    accuracy = accuracy_score(labels, pred_labels)\n",
        "    \n",
        "    return accuracy"
      ],
      "metadata": {
        "id": "xuo4PranBf4B"
      },
      "execution_count": 59,
      "outputs": []
    },
    {
      "cell_type": "code",
      "source": [
        "label_map = {'A':0,\n",
        "             'B':1,\n",
        "             'C':2,\n",
        "             'D':3,\n",
        "             'E':4,\n",
        "             '1':0,\n",
        "             '2':1,\n",
        "             '3':2,\n",
        "             '4':3,\n",
        "             '5':4}\n"
      ],
      "metadata": {
        "id": "ok1poj3nRD7A"
      },
      "execution_count": 74,
      "outputs": []
    },
    {
      "cell_type": "code",
      "source": [
        "Challenge_test=pd.read_csv('ARC-Challenge-Train.csv')"
      ],
      "metadata": {
        "id": "Uu4fXVSxBfx_"
      },
      "execution_count": 55,
      "outputs": []
    },
    {
      "cell_type": "code",
      "source": [
        "questions =Challenge_test['question']"
      ],
      "metadata": {
        "id": "ct47Fv92BClJ"
      },
      "execution_count": null,
      "outputs": []
    },
    {
      "cell_type": "code",
      "source": [
        "\n",
        "labels = Challenge_test['AnswerKey'].map(label_map)"
      ],
      "metadata": {
        "id": "jDlxwuBmWce6"
      },
      "execution_count": null,
      "outputs": []
    },
    {
      "cell_type": "code",
      "source": [
        "accuracy_1 = final_fun_2(questions,labels)"
      ],
      "metadata": {
        "id": "16K2qkGWQP-8"
      },
      "execution_count": null,
      "outputs": []
    },
    {
      "cell_type": "code",
      "source": [
        "accuracy_1"
      ],
      "metadata": {
        "colab": {
          "base_uri": "https://localhost:8080/"
        },
        "id": "B-10veZKMCyz",
        "outputId": "81444305-b62b-4fc6-ce61-ee3ff7ac32ee"
      },
      "execution_count": null,
      "outputs": [
        {
          "output_type": "execute_result",
          "data": {
            "text/plain": [
              "0.5755138516532619"
            ]
          },
          "metadata": {},
          "execution_count": 69
        }
      ]
    },
    {
      "cell_type": "code",
      "source": [
        "questions =list(Challenge_test['question'][10:14])"
      ],
      "metadata": {
        "id": "YlSRiVAmQUEX"
      },
      "execution_count": 64,
      "outputs": []
    },
    {
      "cell_type": "code",
      "source": [
        "labels=[3,1,2,2]"
      ],
      "metadata": {
        "id": "jVccZ7DPQT_c"
      },
      "execution_count": 65,
      "outputs": []
    },
    {
      "cell_type": "code",
      "source": [
        "accuracy_2 = final_fun_2(questions,labels)"
      ],
      "metadata": {
        "id": "jeRzDY09QTtn"
      },
      "execution_count": 66,
      "outputs": []
    },
    {
      "cell_type": "code",
      "source": [
        "accuracy_2"
      ],
      "metadata": {
        "colab": {
          "base_uri": "https://localhost:8080/",
          "height": 0
        },
        "id": "psxNa_KHQTml",
        "outputId": "192e062c-0a85-4ee8-ff9f-99b2ee083f6d"
      },
      "execution_count": 67,
      "outputs": [
        {
          "output_type": "execute_result",
          "data": {
            "text/plain": [
              "0.75"
            ]
          },
          "metadata": {},
          "execution_count": 67
        }
      ]
    },
    {
      "cell_type": "code",
      "source": [
        "questions =list(Challenge_test['question'][109:114])"
      ],
      "metadata": {
        "id": "e1SExDZlQTZk"
      },
      "execution_count": 69,
      "outputs": []
    },
    {
      "cell_type": "code",
      "source": [
        "labels=[3,0,0,3,0]"
      ],
      "metadata": {
        "id": "IjFjnCljQTTp"
      },
      "execution_count": 68,
      "outputs": []
    },
    {
      "cell_type": "code",
      "source": [
        "accuracy_3 = final_fun_2(questions,labels)"
      ],
      "metadata": {
        "id": "zntwSJeCQTDA"
      },
      "execution_count": 70,
      "outputs": []
    },
    {
      "cell_type": "code",
      "source": [
        "accuracy_3"
      ],
      "metadata": {
        "colab": {
          "base_uri": "https://localhost:8080/",
          "height": 0
        },
        "id": "CY9lKOkyQS6g",
        "outputId": "79c5d251-0f16-4c94-bc4b-143075c8cc59"
      },
      "execution_count": 71,
      "outputs": [
        {
          "output_type": "execute_result",
          "data": {
            "text/plain": [
              "0.6"
            ]
          },
          "metadata": {},
          "execution_count": 71
        }
      ]
    },
    {
      "cell_type": "code",
      "source": [
        "questions =list(Challenge_test['question'][250:300])"
      ],
      "metadata": {
        "id": "ffO2Z8CMX6hS"
      },
      "execution_count": 85,
      "outputs": []
    },
    {
      "cell_type": "code",
      "source": [
        "labels = Challenge_test['AnswerKey'][250:300].map(label_map)"
      ],
      "metadata": {
        "id": "yOTHIeTRX8KW"
      },
      "execution_count": 86,
      "outputs": []
    },
    {
      "cell_type": "code",
      "source": [
        "accuracy_4 = final_fun_2(questions,labels)"
      ],
      "metadata": {
        "id": "rTYSIvB0X7_w"
      },
      "execution_count": 87,
      "outputs": []
    },
    {
      "cell_type": "code",
      "source": [
        "accuracy_4"
      ],
      "metadata": {
        "colab": {
          "base_uri": "https://localhost:8080/",
          "height": 0
        },
        "id": "0O9hn_mrYrf3",
        "outputId": "1310b78c-ecc2-42ef-c3ea-7cacfd3f917e"
      },
      "execution_count": 88,
      "outputs": [
        {
          "output_type": "execute_result",
          "data": {
            "text/plain": [
              "0.64"
            ]
          },
          "metadata": {},
          "execution_count": 88
        }
      ]
    },
    {
      "cell_type": "code",
      "source": [
        "questions =list(Challenge_test['question'][600:700])"
      ],
      "metadata": {
        "id": "gOnoRtlpYzoO"
      },
      "execution_count": 81,
      "outputs": []
    },
    {
      "cell_type": "code",
      "source": [
        "labels = Challenge_test['AnswerKey'][600:700].map(label_map)"
      ],
      "metadata": {
        "id": "ZSuwqMCzZPn5"
      },
      "execution_count": 82,
      "outputs": []
    },
    {
      "cell_type": "code",
      "source": [
        "accuracy_5 = final_fun_2(questions,labels)"
      ],
      "metadata": {
        "id": "NqUifZj1ZfBg"
      },
      "execution_count": 83,
      "outputs": []
    },
    {
      "cell_type": "code",
      "source": [
        "accuracy_5"
      ],
      "metadata": {
        "colab": {
          "base_uri": "https://localhost:8080/",
          "height": 0
        },
        "id": "_sxGUXjfZe2p",
        "outputId": "af752991-ab92-4fef-ee37-9a31fe285f5d"
      },
      "execution_count": 84,
      "outputs": [
        {
          "output_type": "execute_result",
          "data": {
            "text/plain": [
              "0.63"
            ]
          },
          "metadata": {},
          "execution_count": 84
        }
      ]
    }
  ]
}