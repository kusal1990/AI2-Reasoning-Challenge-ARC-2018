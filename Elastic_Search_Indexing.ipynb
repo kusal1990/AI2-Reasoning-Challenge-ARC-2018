{
 "cells": [
  {
   "cell_type": "code",
   "execution_count": 1,
   "metadata": {
    "id": "MDFIDy-giT50"
   },
   "outputs": [],
   "source": [
    "import numpy as np \n",
    "import pandas as pd\n",
    "import matplotlib.pyplot as plt\n",
    "%matplotlib inline\n",
    "\n",
    "import seaborn as sns\n",
    "import warnings\n",
    "warnings.filterwarnings('ignore')"
   ]
  },
  {
   "cell_type": "code",
   "execution_count": 2,
   "metadata": {
    "colab": {
     "base_uri": "https://localhost:8080/"
    },
    "id": "nfEuVIC8v8_K",
    "outputId": "60d1f73b-9b80-44f0-cf3b-9fdc3a551677"
   },
   "outputs": [
    {
     "name": "stdout",
     "output_type": "stream",
     "text": [
      "Mounted at /content/drive\n"
     ]
    }
   ],
   "source": [
    "from google.colab import drive\n",
    "drive.mount('/content/drive')"
   ]
  },
  {
   "cell_type": "code",
   "execution_count": null,
   "metadata": {
    "id": "1RZvWFap1g1Q"
   },
   "outputs": [],
   "source": []
  },
  {
   "cell_type": "code",
   "execution_count": 3,
   "metadata": {
    "id": "yos3nKNNib4I"
   },
   "outputs": [],
   "source": [
    "\n",
    "df_easy_train = pd.read_csv('drive/MyDrive/ARC-V1-Feb2018-2/ARC-Easy-Train.csv')\n",
    "df_easy_dev = pd.read_csv('drive/MyDrive/ARC-V1-Feb2018-2/ARC-Easy-Dev.csv')\n",
    "df_easy_test = pd.read_csv('drive/MyDrive/ARC-V1-Feb2018-2/ARC-Easy-Test.csv')"
   ]
  },
  {
   "cell_type": "code",
   "execution_count": 4,
   "metadata": {
    "id": "XzhWhoYUi5ZE"
   },
   "outputs": [],
   "source": [
    "df_challenge_train = pd.read_csv('drive/My Drive/ARC-V1-Feb2018-2/ARC-Challenge-Train.csv')\n",
    "df_challenge_dev = pd.read_csv('drive/My Drive/ARC-V1-Feb2018-2/ARC-Challenge-Dev.csv')\n",
    "df_challenge_test = pd.read_csv('drive/My Drive/ARC-V1-Feb2018-2/ARC-Challenge-Test.csv')"
   ]
  },
  {
   "cell_type": "code",
   "execution_count": 5,
   "metadata": {
    "colab": {
     "base_uri": "https://localhost:8080/"
    },
    "id": "YwApAWcdjWE6",
    "outputId": "78fb320c-7f69-47da-a5eb-efb3b309241d"
   },
   "outputs": [
    {
     "name": "stdout",
     "output_type": "stream",
     "text": [
      "Shape of train easy dataset is (2251, 12)\n",
      "Shape of dev easy dataset is (570, 12)\n",
      "Shape of test easy dataset is (2376, 12)\n"
     ]
    }
   ],
   "source": [
    "print(f'Shape of train easy dataset is {df_easy_train.shape}')\n",
    "print(f'Shape of dev easy dataset is {df_easy_dev.shape}')\n",
    "print(f'Shape of test easy dataset is {df_easy_test.shape}')"
   ]
  },
  {
   "cell_type": "code",
   "execution_count": 6,
   "metadata": {
    "colab": {
     "base_uri": "https://localhost:8080/"
    },
    "id": "pp2HiAJgjeZw",
    "outputId": "eb412b30-37d7-456d-db25-43bfec080e88"
   },
   "outputs": [
    {
     "name": "stdout",
     "output_type": "stream",
     "text": [
      "Shape of train challenge dataset is (1119, 12)\n",
      "Shape of dev challenge dataset is (299, 12)\n",
      "Shape of test challenge dataset is (1172, 12)\n"
     ]
    }
   ],
   "source": [
    "print(f'Shape of train challenge dataset is {df_challenge_train.shape}')\n",
    "print(f'Shape of dev challenge dataset is {df_challenge_dev.shape}')\n",
    "print(f'Shape of test challenge dataset is {df_challenge_test.shape}')"
   ]
  },
  {
   "cell_type": "code",
   "execution_count": 7,
   "metadata": {
    "colab": {
     "base_uri": "https://localhost:8080/"
    },
    "id": "mgnkKnsBjfUy",
    "outputId": "ef2b001a-b789-403a-99b8-26c5eb11e58f"
   },
   "outputs": [
    {
     "name": "stdout",
     "output_type": "stream",
     "text": [
      "<class 'pandas.core.frame.DataFrame'>\n",
      "RangeIndex: 2251 entries, 0 to 2250\n",
      "Data columns (total 12 columns):\n",
      " #   Column                    Non-Null Count  Dtype  \n",
      "---  ------                    --------------  -----  \n",
      " 0   questionID                2251 non-null   object \n",
      " 1   originalQuestionID        2251 non-null   object \n",
      " 2   totalPossiblePoint        2251 non-null   int64  \n",
      " 3   AnswerKey                 2251 non-null   object \n",
      " 4   isMultipleChoiceQuestion  2251 non-null   int64  \n",
      " 5   includesDiagram           2251 non-null   int64  \n",
      " 6   examName                  2251 non-null   object \n",
      " 7   schoolGrade               2251 non-null   int64  \n",
      " 8   year                      2251 non-null   object \n",
      " 9   question                  2251 non-null   object \n",
      " 10  subject                   0 non-null      float64\n",
      " 11  category                  2251 non-null   object \n",
      "dtypes: float64(1), int64(4), object(7)\n",
      "memory usage: 211.2+ KB\n"
     ]
    }
   ],
   "source": [
    "df_easy_train.info()"
   ]
  },
  {
   "cell_type": "markdown",
   "metadata": {
    "id": "OulAS3fqjqmR"
   },
   "source": [
    "Information regarding above columns are as follows:\n",
    "\n",
    "questionID: Unique identifier for the question.\n",
    "\n",
    "originalQuestionID: Legacy ID used within AI2.\n",
    "\n",
    "totalPossiblePoint: The point value of the question for grading purposes.\n",
    "\n",
    "AnswerKey: The letter signifying the correct answer option for the question.\n",
    "\n",
    "isMultipleChoice: 1 indicates the question is multiple choice.\n",
    "\n",
    "includesDiagram: 0 indicates the question does not include a diagram.\n",
    "\n",
    "examName: The name of the source exam for these questions.\n",
    "\n",
    "schoolGrade: The intended grade level for the question.\n",
    "\n",
    "year: The year the questions were sourced for AI2.\n",
    "\n",
    "question: The question and its answer options. Each answer option is indicated by a letter in parentheses, e.g., (A) and (B).\n",
    "\n",
    "subject: The question's subject; this is left blank in this data set.\n",
    "\n",
    "category: Whether the question is a Train, Dev, or Test question."
   ]
  },
  {
   "cell_type": "code",
   "execution_count": 8,
   "metadata": {
    "colab": {
     "base_uri": "https://localhost:8080/",
     "height": 582
    },
    "id": "81yX5xuBjrP5",
    "outputId": "db7d2f58-b083-419f-e0fe-3b63c44ab65e"
   },
   "outputs": [
    {
     "data": {
      "text/html": [
       "\n",
       "  <div id=\"df-f678d484-9724-4129-9e74-5ac45f408cca\">\n",
       "    <div class=\"colab-df-container\">\n",
       "      <div>\n",
       "<style scoped>\n",
       "    .dataframe tbody tr th:only-of-type {\n",
       "        vertical-align: middle;\n",
       "    }\n",
       "\n",
       "    .dataframe tbody tr th {\n",
       "        vertical-align: top;\n",
       "    }\n",
       "\n",
       "    .dataframe thead th {\n",
       "        text-align: right;\n",
       "    }\n",
       "</style>\n",
       "<table border=\"1\" class=\"dataframe\">\n",
       "  <thead>\n",
       "    <tr style=\"text-align: right;\">\n",
       "      <th></th>\n",
       "      <th>questionID</th>\n",
       "      <th>originalQuestionID</th>\n",
       "      <th>totalPossiblePoint</th>\n",
       "      <th>AnswerKey</th>\n",
       "      <th>isMultipleChoiceQuestion</th>\n",
       "      <th>includesDiagram</th>\n",
       "      <th>examName</th>\n",
       "      <th>schoolGrade</th>\n",
       "      <th>year</th>\n",
       "      <th>question</th>\n",
       "      <th>subject</th>\n",
       "      <th>category</th>\n",
       "    </tr>\n",
       "  </thead>\n",
       "  <tbody>\n",
       "    <tr>\n",
       "      <th>0</th>\n",
       "      <td>Mercury_7220990</td>\n",
       "      <td>7220990</td>\n",
       "      <td>1</td>\n",
       "      <td>B</td>\n",
       "      <td>1</td>\n",
       "      <td>0</td>\n",
       "      <td>Mercury</td>\n",
       "      <td>8</td>\n",
       "      <td>2015</td>\n",
       "      <td>Which factor will most likely cause a person t...</td>\n",
       "      <td>NaN</td>\n",
       "      <td>Train</td>\n",
       "    </tr>\n",
       "    <tr>\n",
       "      <th>1</th>\n",
       "      <td>MCAS_2007_8_5189</td>\n",
       "      <td>5189</td>\n",
       "      <td>1</td>\n",
       "      <td>B</td>\n",
       "      <td>1</td>\n",
       "      <td>0</td>\n",
       "      <td>MCAS</td>\n",
       "      <td>8</td>\n",
       "      <td>2007</td>\n",
       "      <td>Lichens are symbiotic organisms made of green ...</td>\n",
       "      <td>NaN</td>\n",
       "      <td>Train</td>\n",
       "    </tr>\n",
       "    <tr>\n",
       "      <th>2</th>\n",
       "      <td>Mercury_SC_401169</td>\n",
       "      <td>401169</td>\n",
       "      <td>1</td>\n",
       "      <td>D</td>\n",
       "      <td>1</td>\n",
       "      <td>0</td>\n",
       "      <td>Mercury</td>\n",
       "      <td>5</td>\n",
       "      <td>2015</td>\n",
       "      <td>When a switch is used in an electrical circuit...</td>\n",
       "      <td>NaN</td>\n",
       "      <td>Train</td>\n",
       "    </tr>\n",
       "    <tr>\n",
       "      <th>3</th>\n",
       "      <td>MCAS_2004_8_27</td>\n",
       "      <td>27</td>\n",
       "      <td>1</td>\n",
       "      <td>A</td>\n",
       "      <td>1</td>\n",
       "      <td>0</td>\n",
       "      <td>MCAS</td>\n",
       "      <td>8</td>\n",
       "      <td>2004</td>\n",
       "      <td>Which of the following is an example of an ass...</td>\n",
       "      <td>NaN</td>\n",
       "      <td>Train</td>\n",
       "    </tr>\n",
       "    <tr>\n",
       "      <th>4</th>\n",
       "      <td>NYSEDREGENTS_2006_8_10</td>\n",
       "      <td>10</td>\n",
       "      <td>1</td>\n",
       "      <td>3</td>\n",
       "      <td>1</td>\n",
       "      <td>0</td>\n",
       "      <td>NYSEDREGENTS</td>\n",
       "      <td>8</td>\n",
       "      <td>2006</td>\n",
       "      <td>Rocks are classified as igneous, metamorphic, ...</td>\n",
       "      <td>NaN</td>\n",
       "      <td>Train</td>\n",
       "    </tr>\n",
       "  </tbody>\n",
       "</table>\n",
       "</div>\n",
       "      <button class=\"colab-df-convert\" onclick=\"convertToInteractive('df-f678d484-9724-4129-9e74-5ac45f408cca')\"\n",
       "              title=\"Convert this dataframe to an interactive table.\"\n",
       "              style=\"display:none;\">\n",
       "        \n",
       "  <svg xmlns=\"http://www.w3.org/2000/svg\" height=\"24px\"viewBox=\"0 0 24 24\"\n",
       "       width=\"24px\">\n",
       "    <path d=\"M0 0h24v24H0V0z\" fill=\"none\"/>\n",
       "    <path d=\"M18.56 5.44l.94 2.06.94-2.06 2.06-.94-2.06-.94-.94-2.06-.94 2.06-2.06.94zm-11 1L8.5 8.5l.94-2.06 2.06-.94-2.06-.94L8.5 2.5l-.94 2.06-2.06.94zm10 10l.94 2.06.94-2.06 2.06-.94-2.06-.94-.94-2.06-.94 2.06-2.06.94z\"/><path d=\"M17.41 7.96l-1.37-1.37c-.4-.4-.92-.59-1.43-.59-.52 0-1.04.2-1.43.59L10.3 9.45l-7.72 7.72c-.78.78-.78 2.05 0 2.83L4 21.41c.39.39.9.59 1.41.59.51 0 1.02-.2 1.41-.59l7.78-7.78 2.81-2.81c.8-.78.8-2.07 0-2.86zM5.41 20L4 18.59l7.72-7.72 1.47 1.35L5.41 20z\"/>\n",
       "  </svg>\n",
       "      </button>\n",
       "      \n",
       "  <style>\n",
       "    .colab-df-container {\n",
       "      display:flex;\n",
       "      flex-wrap:wrap;\n",
       "      gap: 12px;\n",
       "    }\n",
       "\n",
       "    .colab-df-convert {\n",
       "      background-color: #E8F0FE;\n",
       "      border: none;\n",
       "      border-radius: 50%;\n",
       "      cursor: pointer;\n",
       "      display: none;\n",
       "      fill: #1967D2;\n",
       "      height: 32px;\n",
       "      padding: 0 0 0 0;\n",
       "      width: 32px;\n",
       "    }\n",
       "\n",
       "    .colab-df-convert:hover {\n",
       "      background-color: #E2EBFA;\n",
       "      box-shadow: 0px 1px 2px rgba(60, 64, 67, 0.3), 0px 1px 3px 1px rgba(60, 64, 67, 0.15);\n",
       "      fill: #174EA6;\n",
       "    }\n",
       "\n",
       "    [theme=dark] .colab-df-convert {\n",
       "      background-color: #3B4455;\n",
       "      fill: #D2E3FC;\n",
       "    }\n",
       "\n",
       "    [theme=dark] .colab-df-convert:hover {\n",
       "      background-color: #434B5C;\n",
       "      box-shadow: 0px 1px 3px 1px rgba(0, 0, 0, 0.15);\n",
       "      filter: drop-shadow(0px 1px 2px rgba(0, 0, 0, 0.3));\n",
       "      fill: #FFFFFF;\n",
       "    }\n",
       "  </style>\n",
       "\n",
       "      <script>\n",
       "        const buttonEl =\n",
       "          document.querySelector('#df-f678d484-9724-4129-9e74-5ac45f408cca button.colab-df-convert');\n",
       "        buttonEl.style.display =\n",
       "          google.colab.kernel.accessAllowed ? 'block' : 'none';\n",
       "\n",
       "        async function convertToInteractive(key) {\n",
       "          const element = document.querySelector('#df-f678d484-9724-4129-9e74-5ac45f408cca');\n",
       "          const dataTable =\n",
       "            await google.colab.kernel.invokeFunction('convertToInteractive',\n",
       "                                                     [key], {});\n",
       "          if (!dataTable) return;\n",
       "\n",
       "          const docLinkHtml = 'Like what you see? Visit the ' +\n",
       "            '<a target=\"_blank\" href=https://colab.research.google.com/notebooks/data_table.ipynb>data table notebook</a>'\n",
       "            + ' to learn more about interactive tables.';\n",
       "          element.innerHTML = '';\n",
       "          dataTable['output_type'] = 'display_data';\n",
       "          await google.colab.output.renderOutput(dataTable, element);\n",
       "          const docLink = document.createElement('div');\n",
       "          docLink.innerHTML = docLinkHtml;\n",
       "          element.appendChild(docLink);\n",
       "        }\n",
       "      </script>\n",
       "    </div>\n",
       "  </div>\n",
       "  "
      ],
      "text/plain": [
       "               questionID originalQuestionID  totalPossiblePoint AnswerKey  \\\n",
       "0         Mercury_7220990            7220990                   1         B   \n",
       "1        MCAS_2007_8_5189               5189                   1         B   \n",
       "2       Mercury_SC_401169             401169                   1         D   \n",
       "3          MCAS_2004_8_27                 27                   1         A   \n",
       "4  NYSEDREGENTS_2006_8_10                 10                   1         3   \n",
       "\n",
       "   isMultipleChoiceQuestion  includesDiagram      examName  schoolGrade  year  \\\n",
       "0                         1                0       Mercury            8  2015   \n",
       "1                         1                0          MCAS            8  2007   \n",
       "2                         1                0       Mercury            5  2015   \n",
       "3                         1                0          MCAS            8  2004   \n",
       "4                         1                0  NYSEDREGENTS            8  2006   \n",
       "\n",
       "                                            question  subject category  \n",
       "0  Which factor will most likely cause a person t...      NaN    Train  \n",
       "1  Lichens are symbiotic organisms made of green ...      NaN    Train  \n",
       "2  When a switch is used in an electrical circuit...      NaN    Train  \n",
       "3  Which of the following is an example of an ass...      NaN    Train  \n",
       "4  Rocks are classified as igneous, metamorphic, ...      NaN    Train  "
      ]
     },
     "execution_count": 8,
     "metadata": {},
     "output_type": "execute_result"
    }
   ],
   "source": [
    "df_easy_train.head(5)"
   ]
  },
  {
   "cell_type": "code",
   "execution_count": 9,
   "metadata": {
    "id": "6cipY5NQmT3F"
   },
   "outputs": [],
   "source": [
    "\n",
    "imp_columns = ['AnswerKey','question']\n",
    "\n",
    "df_easy_train = df_easy_train[imp_columns]\n",
    "df_easy_dev = df_easy_dev[imp_columns]\n",
    "df_easy_test = df_easy_test[imp_columns]\n",
    "\n",
    "df_challenge_train = df_challenge_train[imp_columns]\n",
    "df_challenge_dev = df_challenge_dev[imp_columns]\n",
    "df_challenge_test = df_challenge_test[imp_columns]"
   ]
  },
  {
   "cell_type": "markdown",
   "metadata": {
    "id": "lbCeq5plmiPC"
   },
   "source": [
    "### question."
   ]
  },
  {
   "cell_type": "code",
   "execution_count": 10,
   "metadata": {
    "colab": {
     "base_uri": "https://localhost:8080/",
     "height": 53
    },
    "id": "N9vvkyEImY3u",
    "outputId": "a67d69dc-14e2-4454-e43d-7a36324a7da0"
   },
   "outputs": [
    {
     "data": {
      "application/vnd.google.colaboratory.intrinsic+json": {
       "type": "string"
      },
      "text/plain": [
       "'Which factor will most likely cause a person to develop a fever?  (A) a leg muscle relaxing after exercise (B) a bacterial population in the bloodstream (C) several viral particles on the skin (D) carbohydrates being digested in the stomach'"
      ]
     },
     "execution_count": 10,
     "metadata": {},
     "output_type": "execute_result"
    }
   ],
   "source": [
    "df_easy_train['question'].iloc[0]"
   ]
  },
  {
   "cell_type": "code",
   "execution_count": 11,
   "metadata": {
    "colab": {
     "base_uri": "https://localhost:8080/",
     "height": 53
    },
    "id": "jaFQqsGkmYw4",
    "outputId": "b69f4fe7-6c57-4a94-f19a-f10198a90fe8"
   },
   "outputs": [
    {
     "data": {
      "application/vnd.google.colaboratory.intrinsic+json": {
       "type": "string"
      },
      "text/plain": [
       "'Rocks are classified as igneous, metamorphic, or sedimentary according to (1) their color (2) their shape (3) how they formed (4) the minerals they contain'"
      ]
     },
     "execution_count": 11,
     "metadata": {},
     "output_type": "execute_result"
    }
   ],
   "source": [
    "df_easy_train['question'].iloc[4]"
   ]
  },
  {
   "cell_type": "code",
   "execution_count": 12,
   "metadata": {
    "id": "OgO9-CDAmYp5"
   },
   "outputs": [],
   "source": [
    "\n",
    "file = open('drive/MyDrive/ARC/ARC_Corpus.txt','r')"
   ]
  },
  {
   "cell_type": "code",
   "execution_count": 13,
   "metadata": {
    "id": "2GcHnlst_wBW"
   },
   "outputs": [],
   "source": [
    "def extract_question(question):\n",
    "    '''\n",
    "    This function will take a value in question column then, will split the string \n",
    "    at (A) or (1). After splitting we will take only first part which is the question.\n",
    "    '''\n",
    "    if '(A)' in question:\n",
    "        x = question.split('(A)')[0]\n",
    "    elif '(1)' in question:\n",
    "        x = question.split('(1)')[0]\n",
    "\n",
    "    return x"
   ]
  },
  {
   "cell_type": "code",
   "execution_count": 14,
   "metadata": {
    "id": "t0WxKMDI_v9K"
   },
   "outputs": [],
   "source": [
    "def extract_answers(question):\n",
    "    '''\n",
    "    This function will take a value in question column then, will split the string \n",
    "    at (A) or (1). After splitting we will take only first part which is the question.\n",
    "    '''\n",
    "    if '(A)' in question:\n",
    "        x = '(A) ' + question.split('(A)')[1]\n",
    "    elif '(1)' in question:\n",
    "        x = '(1) ' + question.split('(1)')[1]\n",
    "\n",
    "    return x"
   ]
  },
  {
   "cell_type": "code",
   "execution_count": 15,
   "metadata": {
    "id": "Cpbgg0uK_v44"
   },
   "outputs": [],
   "source": [
    "df_easy_train['only_question'] = df_easy_train['question'].apply(extract_question)\n",
    "df_easy_dev['only_question'] = df_easy_dev['question'].apply(extract_question)\n",
    "df_easy_test['only_question'] = df_easy_test['question'].apply(extract_question)\n",
    "df_challenge_train['only_question'] = df_challenge_train['question'].apply(extract_question)\n",
    "df_challenge_dev['only_question'] = df_challenge_dev['question'].apply(extract_question)\n",
    "df_challenge_test['only_question'] = df_challenge_test['question'].apply(extract_question)"
   ]
  },
  {
   "cell_type": "code",
   "execution_count": 16,
   "metadata": {
    "id": "5SzZXS3C_vuQ"
   },
   "outputs": [],
   "source": [
    "df_easy_train['only_answers'] = df_easy_train['question'].apply(extract_answers)\n",
    "df_easy_dev['only_answers'] = df_easy_dev['question'].apply(extract_answers)\n",
    "df_easy_test['only_answers'] = df_easy_test['question'].apply(extract_answers)\n",
    "df_challenge_train['only_answers'] = df_challenge_train['question'].apply(extract_answers)\n",
    "df_challenge_dev['only_answers'] = df_challenge_dev['question'].apply(extract_answers)\n",
    "df_challenge_test['only_answers'] = df_challenge_test['question'].apply(extract_answers)"
   ]
  },
  {
   "cell_type": "code",
   "execution_count": 17,
   "metadata": {
    "id": "agk1eMjrBB9K"
   },
   "outputs": [],
   "source": [
    "#Adding length of a question as a new column.\n",
    "df_easy_train['quesiton_length'] = df_easy_train['only_question'].apply(lambda x: len(x))\n",
    "df_easy_dev['quesiton_length'] = df_easy_dev['only_question'].apply(lambda x: len(x))\n",
    "df_easy_test['quesiton_length'] = df_easy_test['only_question'].apply(lambda x: len(x))\n",
    "df_challenge_train['quesiton_length'] = df_challenge_train['only_question'].apply(lambda x: len(x))\n",
    "df_challenge_dev['quesiton_length'] = df_challenge_dev['only_question'].apply(lambda x: len(x))\n",
    "df_challenge_test['quesiton_length'] = df_challenge_test['only_question'].apply(lambda x: len(x))"
   ]
  },
  {
   "cell_type": "code",
   "execution_count": 18,
   "metadata": {
    "id": "GNZOKz68mYhm"
   },
   "outputs": [],
   "source": [
    "#Saving the newly created dataframes.\n",
    "df_easy_train.to_csv('df_easy_train',index=False)\n",
    "df_easy_dev.to_csv('df_easy_dev',index=False)\n",
    "df_easy_test.to_csv('df_easy_test',index=False)"
   ]
  },
  {
   "cell_type": "code",
   "execution_count": 19,
   "metadata": {
    "id": "z_RXCSHaoCNq"
   },
   "outputs": [],
   "source": [
    "df_challenge_train.to_csv('df_challenge_train',index=False)\n",
    "df_challenge_dev.to_csv('df_challenge_dev',index=False)\n",
    "df_challenge_test.to_csv('df_challenge_test',index=False)"
   ]
  },
  {
   "cell_type": "code",
   "execution_count": 20,
   "metadata": {
    "colab": {
     "base_uri": "https://localhost:8080/"
    },
    "id": "zF9sxyWJo-cA",
    "outputId": "8e50b816-df80-41bf-a8fd-f9bcadc9bc42"
   },
   "outputs": [
    {
     "name": "stdout",
     "output_type": "stream",
     "text": [
      "Looking in indexes: https://pypi.org/simple, https://us-python.pkg.dev/colab-wheels/public/simple/\n",
      "Collecting elasticsearch==7.9.1\n",
      "  Downloading elasticsearch-7.9.1-py2.py3-none-any.whl (219 kB)\n",
      "\u001b[K     |████████████████████████████████| 219 kB 7.0 MB/s \n",
      "\u001b[?25hRequirement already satisfied: certifi in /usr/local/lib/python3.7/dist-packages (from elasticsearch==7.9.1) (2022.6.15)\n",
      "Requirement already satisfied: urllib3>=1.21.1 in /usr/local/lib/python3.7/dist-packages (from elasticsearch==7.9.1) (1.24.3)\n",
      "Installing collected packages: elasticsearch\n",
      "Successfully installed elasticsearch-7.9.1\n"
     ]
    }
   ],
   "source": [
    "!pip install elasticsearch==7.9.1"
   ]
  },
  {
   "cell_type": "code",
   "execution_count": 21,
   "metadata": {
    "colab": {
     "base_uri": "https://localhost:8080/"
    },
    "id": "TsKjE5vY4qxF",
    "outputId": "04c6e1d9-bc61-4ba3-f7a7-9e8c62c6d334"
   },
   "outputs": [
    {
     "name": "stdout",
     "output_type": "stream",
     "text": [
      "Looking in indexes: https://pypi.org/simple, https://us-python.pkg.dev/colab-wheels/public/simple/\n",
      "Collecting tensorflow-io\n",
      "  Downloading tensorflow_io-0.26.0-cp37-cp37m-manylinux_2_12_x86_64.manylinux2010_x86_64.whl (25.9 MB)\n",
      "\u001b[K     |████████████████████████████████| 25.9 MB 1.3 MB/s \n",
      "\u001b[?25hRequirement already satisfied: tensorflow-io-gcs-filesystem==0.26.0 in /usr/local/lib/python3.7/dist-packages (from tensorflow-io) (0.26.0)\n",
      "Installing collected packages: tensorflow-io\n",
      "Successfully installed tensorflow-io-0.26.0\n"
     ]
    }
   ],
   "source": [
    "!pip install tensorflow-io"
   ]
  },
  {
   "cell_type": "code",
   "execution_count": 22,
   "metadata": {
    "colab": {
     "base_uri": "https://localhost:8080/"
    },
    "id": "gH5evnbD4tWi",
    "outputId": "227c7484-3371-4992-c2f1-2e4c2ea1bae7"
   },
   "outputs": [
    {
     "name": "stdout",
     "output_type": "stream",
     "text": [
      "elasticsearch-oss-7.9.1-linux-x86_64.tar.gz: OK\n"
     ]
    }
   ],
   "source": [
    "%%bash\n",
    "\n",
    "wget -q https://artifacts.elastic.co/downloads/elasticsearch/elasticsearch-oss-7.9.1-linux-x86_64.tar.gz\n",
    "wget -q https://artifacts.elastic.co/downloads/elasticsearch/elasticsearch-oss-7.9.1-linux-x86_64.tar.gz.sha512\n",
    "tar -xzf elasticsearch-oss-7.9.1-linux-x86_64.tar.gz\n",
    "sudo chown -R daemon:daemon elasticsearch-7.9.1/\n",
    "shasum -a 512 -c elasticsearch-oss-7.9.1-linux-x86_64.tar.gz.sha512 "
   ]
  },
  {
   "cell_type": "code",
   "execution_count": 23,
   "metadata": {
    "colab": {
     "base_uri": "https://localhost:8080/"
    },
    "id": "5NtmwkHA5Jib",
    "outputId": "3baf113b-6845-4139-cca9-fe60175969d5"
   },
   "outputs": [
    {
     "name": "stdout",
     "output_type": "stream",
     "text": [
      "Starting job # 0 in a separate thread.\n"
     ]
    }
   ],
   "source": [
    "%%bash --bg\n",
    "\n",
    "sudo -H -u daemon elasticsearch-7.9.1/bin/elasticsearch"
   ]
  },
  {
   "cell_type": "code",
   "execution_count": 24,
   "metadata": {
    "id": "R6Ip3GMX5P_2"
   },
   "outputs": [],
   "source": [
    "import os\n",
    "import time\n",
    "# Sleep for few seconds to let the instance start.\n",
    "time.sleep(20)"
   ]
  },
  {
   "cell_type": "code",
   "execution_count": 25,
   "metadata": {
    "colab": {
     "base_uri": "https://localhost:8080/"
    },
    "id": "JQq9A-_O5ey6",
    "outputId": "3c4d636a-e5cf-4784-b238-f07e506fc992"
   },
   "outputs": [
    {
     "name": "stdout",
     "output_type": "stream",
     "text": [
      "root         380     378  0 03:09 ?        00:00:00 sudo -H -u daemon elasticsearch-7.9.1/bin/elasticsearch\n",
      "daemon       381     380 99 03:09 ?        00:00:26 /content/elasticsearch-7.9.1/jdk/bin/java -Xshare:auto -Des.networkaddress.cache.ttl=60 -Des.networkaddress.cache.negative.ttl=10 -XX:+AlwaysPreTouch -Xss1m -Djava.awt.headless=true -Dfile.encoding=UTF-8 -Djna.nosys=true -XX:-OmitStackTraceInFastThrow -XX:+ShowCodeDetailsInExceptionMessages -Dio.netty.noUnsafe=true -Dio.netty.noKeySetOptimization=true -Dio.netty.recycler.maxCapacityPerThread=0 -Dio.netty.allocator.numDirectArenas=0 -Dlog4j.shutdownHookEnabled=false -Dlog4j2.disable.jmx=true -Djava.locale.providers=SPI,COMPAT -Xms1g -Xmx1g -XX:+UseG1GC -XX:G1ReservePercent=25 -XX:InitiatingHeapOccupancyPercent=30 -Djava.io.tmpdir=/tmp/elasticsearch-1125315475300519567 -XX:+HeapDumpOnOutOfMemoryError -XX:HeapDumpPath=data -XX:ErrorFile=logs/hs_err_pid%p.log -Xlog:gc*,gc+age=trace,safepoint:file=logs/gc.log:utctime,pid,tags:filecount=32,filesize=64m -XX:MaxDirectMemorySize=536870912 -Des.path.home=/content/elasticsearch-7.9.1 -Des.path.conf=/content/elasticsearch-7.9.1/config -Des.distribution.flavor=oss -Des.distribution.type=tar -Des.bundled_jdk=true -cp /content/elasticsearch-7.9.1/lib/* org.elasticsearch.bootstrap.Elasticsearch\n",
      "root         615     613  0 03:09 ?        00:00:00 grep elasticsearch\n"
     ]
    }
   ],
   "source": [
    "%%bash\n",
    "\n",
    "ps -ef | grep elasticsearch"
   ]
  },
  {
   "cell_type": "code",
   "execution_count": 26,
   "metadata": {
    "colab": {
     "base_uri": "https://localhost:8080/"
    },
    "id": "vQNcaN_v5epz",
    "outputId": "3c0b7861-15d6-4f18-c66f-02fef4274f62"
   },
   "outputs": [
    {
     "name": "stdout",
     "output_type": "stream",
     "text": [
      "{\n",
      "  \"name\" : \"7c7d7789480b\",\n",
      "  \"cluster_name\" : \"elasticsearch\",\n",
      "  \"cluster_uuid\" : \"TUqFhBPsRdCLrnbmKY9_qg\",\n",
      "  \"version\" : {\n",
      "    \"number\" : \"7.9.1\",\n",
      "    \"build_flavor\" : \"oss\",\n",
      "    \"build_type\" : \"tar\",\n",
      "    \"build_hash\" : \"083627f112ba94dffc1232e8b42b73492789ef91\",\n",
      "    \"build_date\" : \"2020-09-01T21:22:21.964974Z\",\n",
      "    \"build_snapshot\" : false,\n",
      "    \"lucene_version\" : \"8.6.2\",\n",
      "    \"minimum_wire_compatibility_version\" : \"6.8.0\",\n",
      "    \"minimum_index_compatibility_version\" : \"6.0.0-beta1\"\n",
      "  },\n",
      "  \"tagline\" : \"You Know, for Search\"\n",
      "}\n"
     ]
    }
   ],
   "source": [
    "%%bash\n",
    "\n",
    "curl -sX GET \"localhost:9200/\""
   ]
  },
  {
   "cell_type": "code",
   "execution_count": 27,
   "metadata": {
    "id": "xDsqXdfYo5y1"
   },
   "outputs": [],
   "source": [
    "from elasticsearch import Elasticsearch\n",
    "from elasticsearch.helpers import parallel_bulk\n",
    "\n",
    "import pandas as pd\n",
    "import numpy as np\n",
    "import re"
   ]
  },
  {
   "cell_type": "code",
   "execution_count": 28,
   "metadata": {
    "id": "1fgqp5MbpJ_b"
   },
   "outputs": [],
   "source": [
    "es = Elasticsearch([{'host':'localhost', 'port':9200}])"
   ]
  },
  {
   "cell_type": "code",
   "execution_count": 29,
   "metadata": {
    "colab": {
     "base_uri": "https://localhost:8080/"
    },
    "id": "_or30otmw_Zt",
    "outputId": "5e063320-157b-4d30-9469-e442c5487cd3"
   },
   "outputs": [
    {
     "data": {
      "text/plain": [
       "True"
      ]
     },
     "execution_count": 29,
     "metadata": {},
     "output_type": "execute_result"
    }
   ],
   "source": [
    "es.ping()"
   ]
  },
  {
   "cell_type": "code",
   "execution_count": 30,
   "metadata": {
    "id": "AJ7Qw7ltpJ8G"
   },
   "outputs": [],
   "source": [
    "corpus2 = open('drive/MyDrive/ARC/ARC_Corpus.txt', 'r', encoding='utf-8')"
   ]
  },
  {
   "cell_type": "code",
   "execution_count": 31,
   "metadata": {
    "id": "7uDpJ_Kjea5i"
   },
   "outputs": [],
   "source": [
    "def create_index(es_client):\n",
    "    \"\"\" Creates an Elasticsearch index.\"\"\"\n",
    "    is_created = False\n",
    "    # Index settings\n",
    "    settings = {\n",
    "        \"settings\": {\n",
    "            \"number_of_shards\": 2,\n",
    "            \"number_of_replicas\": 1\n",
    "        },\n",
    "        \"mappings\": {\n",
    "            \"dynamic\": \"true\",\n",
    "            \"_source\": {\n",
    "            \"enabled\": \"true\"\n",
    "            },\n",
    "            \"properties\": {\n",
    "                \"body\": {\n",
    "                    \"type\": \"text\"\n",
    "                }\n",
    "            }\n",
    "        }\n",
    "    }\n",
    "    print('Creating `corpus2` index...')\n",
    "    try:\n",
    "        if es_client.indices.exists('corpus2'):\n",
    "            es_client.indices.delete(index='corpus2', ignore=[404])\n",
    "        es_client.indices.create(index='corpus2', body=settings)\n",
    "        is_created = True\n",
    "        print('index `corpus2` created successfully.')\n",
    "    except Exception as ex:\n",
    "        print(str(ex))\n",
    "    finally:\n",
    "        return is_created\n",
    "    return is_created"
   ]
  },
  {
   "cell_type": "code",
   "execution_count": 32,
   "metadata": {
    "colab": {
     "base_uri": "https://localhost:8080/"
    },
    "id": "-DhH8x4TeeFZ",
    "outputId": "c776b103-ad1a-4aa5-a35f-f6446f2ccefb"
   },
   "outputs": [
    {
     "name": "stdout",
     "output_type": "stream",
     "text": [
      "Creating `corpus2` index...\n",
      "index `corpus2` created successfully.\n"
     ]
    },
    {
     "data": {
      "text/plain": [
       "True"
      ]
     },
     "execution_count": 32,
     "metadata": {},
     "output_type": "execute_result"
    }
   ],
   "source": [
    "create_index(es)"
   ]
  },
  {
   "cell_type": "code",
   "execution_count": 33,
   "metadata": {
    "id": "UsYMtqStf8ng"
   },
   "outputs": [],
   "source": [
    "from elasticsearch.helpers import bulk\n",
    "def index_batch(docs):\n",
    "    \"\"\" Indexes a batch of documents.\"\"\"\n",
    "    requests = []\n",
    "    for i, doc in enumerate(docs):\n",
    "        request = doc\n",
    "        request[\"_op_type\"] = \"index\"\n",
    "        request[\"_index\"] = 'corpus2'\n",
    "        request[\"body\"] = doc['body']\n",
    "        requests.append(request)\n",
    "    bulk(es, requests)"
   ]
  },
  {
   "cell_type": "code",
   "execution_count": 34,
   "metadata": {
    "id": "HH4Xc78BfTtf"
   },
   "outputs": [],
   "source": [
    "def index_data(es_client, data, BATCH_SIZE=100000):\n",
    "    \"\"\" Indexs all the rows in data (python questions).\"\"\"\n",
    "    docs = []\n",
    "    count = 0\n",
    "    for line in data:\n",
    "        js_object = {}\n",
    "        js_object['body'] = line\n",
    "        docs.append(js_object)\n",
    "        count += 1\n",
    "\n",
    "        if count % BATCH_SIZE == 0:\n",
    "            index_batch(docs)\n",
    "            docs = []\n",
    "            print('Indexed {} documents.'.format(count))\n",
    "    if docs:\n",
    "        index_batch(docs)\n",
    "        print('Indexed {} documents.'.format(count))\n",
    "\n",
    "    es_client.indices.refresh(index='corpus2')\n",
    "    print(\"Done indexing.\")"
   ]
  },
  {
   "cell_type": "code",
   "execution_count": 35,
   "metadata": {
    "colab": {
     "base_uri": "https://localhost:8080/"
    },
    "id": "kZopL5wTfc4d",
    "outputId": "94941d85-8667-48a5-ccdd-c6d72999781e"
   },
   "outputs": [
    {
     "name": "stdout",
     "output_type": "stream",
     "text": [
      "Indexed 100000 documents.\n",
      "Indexed 200000 documents.\n",
      "Indexed 300000 documents.\n",
      "Indexed 400000 documents.\n",
      "Indexed 500000 documents.\n",
      "Indexed 600000 documents.\n",
      "Indexed 700000 documents.\n",
      "Indexed 800000 documents.\n",
      "Indexed 900000 documents.\n",
      "Indexed 1000000 documents.\n",
      "Indexed 1100000 documents.\n",
      "Indexed 1200000 documents.\n",
      "Indexed 1300000 documents.\n",
      "Indexed 1400000 documents.\n",
      "Indexed 1500000 documents.\n",
      "Indexed 1600000 documents.\n",
      "Indexed 1700000 documents.\n",
      "Indexed 1800000 documents.\n",
      "Indexed 1900000 documents.\n",
      "Indexed 2000000 documents.\n",
      "Indexed 2100000 documents.\n",
      "Indexed 2200000 documents.\n",
      "Indexed 2300000 documents.\n",
      "Indexed 2400000 documents.\n",
      "Indexed 2500000 documents.\n",
      "Indexed 2600000 documents.\n",
      "Indexed 2700000 documents.\n",
      "Indexed 2800000 documents.\n",
      "Indexed 2900000 documents.\n",
      "Indexed 3000000 documents.\n",
      "Indexed 3100000 documents.\n",
      "Indexed 3200000 documents.\n",
      "Indexed 3300000 documents.\n",
      "Indexed 3400000 documents.\n",
      "Indexed 3500000 documents.\n",
      "Indexed 3600000 documents.\n",
      "Indexed 3700000 documents.\n",
      "Indexed 3800000 documents.\n",
      "Indexed 3900000 documents.\n",
      "Indexed 4000000 documents.\n",
      "Indexed 4100000 documents.\n",
      "Indexed 4200000 documents.\n",
      "Indexed 4300000 documents.\n",
      "Indexed 4400000 documents.\n",
      "Indexed 4500000 documents.\n",
      "Indexed 4600000 documents.\n",
      "Indexed 4700000 documents.\n",
      "Indexed 4800000 documents.\n",
      "Indexed 4900000 documents.\n",
      "Indexed 5000000 documents.\n",
      "Indexed 5100000 documents.\n",
      "Indexed 5200000 documents.\n",
      "Indexed 5300000 documents.\n",
      "Indexed 5400000 documents.\n",
      "Indexed 5500000 documents.\n",
      "Indexed 5600000 documents.\n",
      "Indexed 5700000 documents.\n",
      "Indexed 5800000 documents.\n",
      "Indexed 5900000 documents.\n",
      "Indexed 6000000 documents.\n",
      "Indexed 6100000 documents.\n",
      "Indexed 6200000 documents.\n",
      "Indexed 6300000 documents.\n",
      "Indexed 6400000 documents.\n",
      "Indexed 6500000 documents.\n",
      "Indexed 6600000 documents.\n",
      "Indexed 6700000 documents.\n",
      "Indexed 6800000 documents.\n",
      "Indexed 6900000 documents.\n",
      "Indexed 7000000 documents.\n",
      "Indexed 7100000 documents.\n",
      "Indexed 7200000 documents.\n",
      "Indexed 7300000 documents.\n",
      "Indexed 7400000 documents.\n",
      "Indexed 7500000 documents.\n",
      "Indexed 7600000 documents.\n",
      "Indexed 7700000 documents.\n",
      "Indexed 7800000 documents.\n",
      "Indexed 7900000 documents.\n",
      "Indexed 8000000 documents.\n",
      "Indexed 8100000 documents.\n",
      "Indexed 8200000 documents.\n",
      "Indexed 8300000 documents.\n",
      "Indexed 8400000 documents.\n",
      "Indexed 8500000 documents.\n",
      "Indexed 8600000 documents.\n",
      "Indexed 8700000 documents.\n",
      "Indexed 8800000 documents.\n",
      "Indexed 8900000 documents.\n",
      "Indexed 9000000 documents.\n",
      "Indexed 9100000 documents.\n",
      "Indexed 9200000 documents.\n",
      "Indexed 9300000 documents.\n",
      "Indexed 9400000 documents.\n",
      "Indexed 9500000 documents.\n",
      "Indexed 9600000 documents.\n",
      "Indexed 9700000 documents.\n",
      "Indexed 9800000 documents.\n",
      "Indexed 9900000 documents.\n",
      "Indexed 10000000 documents.\n",
      "Indexed 10100000 documents.\n",
      "Indexed 10200000 documents.\n",
      "Indexed 10300000 documents.\n",
      "Indexed 10400000 documents.\n",
      "Indexed 10500000 documents.\n",
      "Indexed 10600000 documents.\n",
      "Indexed 10700000 documents.\n",
      "Indexed 10800000 documents.\n",
      "Indexed 10900000 documents.\n",
      "Indexed 11000000 documents.\n",
      "Indexed 11100000 documents.\n",
      "Indexed 11200000 documents.\n",
      "Indexed 11300000 documents.\n",
      "Indexed 11400000 documents.\n",
      "Indexed 11500000 documents.\n",
      "Indexed 11600000 documents.\n",
      "Indexed 11700000 documents.\n",
      "Indexed 11800000 documents.\n",
      "Indexed 11900000 documents.\n",
      "Indexed 12000000 documents.\n",
      "Indexed 12100000 documents.\n",
      "Indexed 12200000 documents.\n",
      "Indexed 12300000 documents.\n",
      "Indexed 12400000 documents.\n",
      "Indexed 12500000 documents.\n",
      "Indexed 12600000 documents.\n",
      "Indexed 12700000 documents.\n",
      "Indexed 12800000 documents.\n",
      "Indexed 12900000 documents.\n",
      "Indexed 13000000 documents.\n",
      "Indexed 13100000 documents.\n",
      "Indexed 13200000 documents.\n",
      "Indexed 13300000 documents.\n",
      "Indexed 13400000 documents.\n",
      "Indexed 13500000 documents.\n",
      "Indexed 13600000 documents.\n",
      "Indexed 13700000 documents.\n",
      "Indexed 13800000 documents.\n",
      "Indexed 13900000 documents.\n",
      "Indexed 14000000 documents.\n",
      "Indexed 14100000 documents.\n",
      "Indexed 14200000 documents.\n",
      "Indexed 14300000 documents.\n",
      "Indexed 14400000 documents.\n",
      "Indexed 14500000 documents.\n",
      "Indexed 14600000 documents.\n",
      "Indexed 14621856 documents.\n",
      "Done indexing.\n"
     ]
    }
   ],
   "source": [
    "index_data(es,corpus2.readlines(), BATCH_SIZE=100000)"
   ]
  },
  {
   "cell_type": "code",
   "execution_count": 36,
   "metadata": {
    "id": "M7_68ry_fqxl"
   },
   "outputs": [],
   "source": [
    "import json\n",
    "import time\n",
    "from functools import reduce\n",
    "import operator"
   ]
  },
  {
   "cell_type": "code",
   "execution_count": 37,
   "metadata": {
    "id": "J8HDt6tCpJvl"
   },
   "outputs": [],
   "source": [
    "df_easy_train = pd.read_csv('df_easy_train')\n",
    "df_easy_dev = pd.read_csv('df_easy_dev')\n",
    "df_easy_test = pd.read_csv('df_easy_test')"
   ]
  },
  {
   "cell_type": "code",
   "execution_count": 38,
   "metadata": {
    "id": "H4iT1gaJqtpC"
   },
   "outputs": [],
   "source": [
    "df_challenge_train = pd.read_csv('df_challenge_train')\n",
    "df_challenge_dev = pd.read_csv('df_challenge_dev')\n",
    "df_challenge_test = pd.read_csv('df_challenge_test')"
   ]
  },
  {
   "cell_type": "code",
   "execution_count": 39,
   "metadata": {
    "colab": {
     "base_uri": "https://localhost:8080/",
     "height": 337
    },
    "id": "Bzk0_gSXpJsS",
    "outputId": "1e986df0-5eb3-44e1-d05a-82e81f966343"
   },
   "outputs": [
    {
     "data": {
      "text/html": [
       "\n",
       "  <div id=\"df-a978ffd3-d38d-4931-a45f-538e5457f8a5\">\n",
       "    <div class=\"colab-df-container\">\n",
       "      <div>\n",
       "<style scoped>\n",
       "    .dataframe tbody tr th:only-of-type {\n",
       "        vertical-align: middle;\n",
       "    }\n",
       "\n",
       "    .dataframe tbody tr th {\n",
       "        vertical-align: top;\n",
       "    }\n",
       "\n",
       "    .dataframe thead th {\n",
       "        text-align: right;\n",
       "    }\n",
       "</style>\n",
       "<table border=\"1\" class=\"dataframe\">\n",
       "  <thead>\n",
       "    <tr style=\"text-align: right;\">\n",
       "      <th></th>\n",
       "      <th>AnswerKey</th>\n",
       "      <th>question</th>\n",
       "      <th>only_question</th>\n",
       "      <th>only_answers</th>\n",
       "      <th>quesiton_length</th>\n",
       "    </tr>\n",
       "  </thead>\n",
       "  <tbody>\n",
       "    <tr>\n",
       "      <th>0</th>\n",
       "      <td>B</td>\n",
       "      <td>Which factor will most likely cause a person t...</td>\n",
       "      <td>Which factor will most likely cause a person t...</td>\n",
       "      <td>(A)  a leg muscle relaxing after exercise (B) ...</td>\n",
       "      <td>66</td>\n",
       "    </tr>\n",
       "    <tr>\n",
       "      <th>1</th>\n",
       "      <td>B</td>\n",
       "      <td>Lichens are symbiotic organisms made of green ...</td>\n",
       "      <td>Lichens are symbiotic organisms made of green ...</td>\n",
       "      <td>(A)  carbon dioxide (B) food (C) protection (D...</td>\n",
       "      <td>139</td>\n",
       "    </tr>\n",
       "    <tr>\n",
       "      <th>2</th>\n",
       "      <td>D</td>\n",
       "      <td>When a switch is used in an electrical circuit...</td>\n",
       "      <td>When a switch is used in an electrical circuit...</td>\n",
       "      <td>(A)  cause the charge to build. (B) increase a...</td>\n",
       "      <td>63</td>\n",
       "    </tr>\n",
       "    <tr>\n",
       "      <th>3</th>\n",
       "      <td>A</td>\n",
       "      <td>Which of the following is an example of an ass...</td>\n",
       "      <td>Which of the following is an example of an ass...</td>\n",
       "      <td>(A)  contact lens (B) motorcycle (C) raincoat ...</td>\n",
       "      <td>61</td>\n",
       "    </tr>\n",
       "    <tr>\n",
       "      <th>4</th>\n",
       "      <td>3</td>\n",
       "      <td>Rocks are classified as igneous, metamorphic, ...</td>\n",
       "      <td>Rocks are classified as igneous, metamorphic, ...</td>\n",
       "      <td>(1)  their color (2) their shape (3) how they ...</td>\n",
       "      <td>74</td>\n",
       "    </tr>\n",
       "  </tbody>\n",
       "</table>\n",
       "</div>\n",
       "      <button class=\"colab-df-convert\" onclick=\"convertToInteractive('df-a978ffd3-d38d-4931-a45f-538e5457f8a5')\"\n",
       "              title=\"Convert this dataframe to an interactive table.\"\n",
       "              style=\"display:none;\">\n",
       "        \n",
       "  <svg xmlns=\"http://www.w3.org/2000/svg\" height=\"24px\"viewBox=\"0 0 24 24\"\n",
       "       width=\"24px\">\n",
       "    <path d=\"M0 0h24v24H0V0z\" fill=\"none\"/>\n",
       "    <path d=\"M18.56 5.44l.94 2.06.94-2.06 2.06-.94-2.06-.94-.94-2.06-.94 2.06-2.06.94zm-11 1L8.5 8.5l.94-2.06 2.06-.94-2.06-.94L8.5 2.5l-.94 2.06-2.06.94zm10 10l.94 2.06.94-2.06 2.06-.94-2.06-.94-.94-2.06-.94 2.06-2.06.94z\"/><path d=\"M17.41 7.96l-1.37-1.37c-.4-.4-.92-.59-1.43-.59-.52 0-1.04.2-1.43.59L10.3 9.45l-7.72 7.72c-.78.78-.78 2.05 0 2.83L4 21.41c.39.39.9.59 1.41.59.51 0 1.02-.2 1.41-.59l7.78-7.78 2.81-2.81c.8-.78.8-2.07 0-2.86zM5.41 20L4 18.59l7.72-7.72 1.47 1.35L5.41 20z\"/>\n",
       "  </svg>\n",
       "      </button>\n",
       "      \n",
       "  <style>\n",
       "    .colab-df-container {\n",
       "      display:flex;\n",
       "      flex-wrap:wrap;\n",
       "      gap: 12px;\n",
       "    }\n",
       "\n",
       "    .colab-df-convert {\n",
       "      background-color: #E8F0FE;\n",
       "      border: none;\n",
       "      border-radius: 50%;\n",
       "      cursor: pointer;\n",
       "      display: none;\n",
       "      fill: #1967D2;\n",
       "      height: 32px;\n",
       "      padding: 0 0 0 0;\n",
       "      width: 32px;\n",
       "    }\n",
       "\n",
       "    .colab-df-convert:hover {\n",
       "      background-color: #E2EBFA;\n",
       "      box-shadow: 0px 1px 2px rgba(60, 64, 67, 0.3), 0px 1px 3px 1px rgba(60, 64, 67, 0.15);\n",
       "      fill: #174EA6;\n",
       "    }\n",
       "\n",
       "    [theme=dark] .colab-df-convert {\n",
       "      background-color: #3B4455;\n",
       "      fill: #D2E3FC;\n",
       "    }\n",
       "\n",
       "    [theme=dark] .colab-df-convert:hover {\n",
       "      background-color: #434B5C;\n",
       "      box-shadow: 0px 1px 3px 1px rgba(0, 0, 0, 0.15);\n",
       "      filter: drop-shadow(0px 1px 2px rgba(0, 0, 0, 0.3));\n",
       "      fill: #FFFFFF;\n",
       "    }\n",
       "  </style>\n",
       "\n",
       "      <script>\n",
       "        const buttonEl =\n",
       "          document.querySelector('#df-a978ffd3-d38d-4931-a45f-538e5457f8a5 button.colab-df-convert');\n",
       "        buttonEl.style.display =\n",
       "          google.colab.kernel.accessAllowed ? 'block' : 'none';\n",
       "\n",
       "        async function convertToInteractive(key) {\n",
       "          const element = document.querySelector('#df-a978ffd3-d38d-4931-a45f-538e5457f8a5');\n",
       "          const dataTable =\n",
       "            await google.colab.kernel.invokeFunction('convertToInteractive',\n",
       "                                                     [key], {});\n",
       "          if (!dataTable) return;\n",
       "\n",
       "          const docLinkHtml = 'Like what you see? Visit the ' +\n",
       "            '<a target=\"_blank\" href=https://colab.research.google.com/notebooks/data_table.ipynb>data table notebook</a>'\n",
       "            + ' to learn more about interactive tables.';\n",
       "          element.innerHTML = '';\n",
       "          dataTable['output_type'] = 'display_data';\n",
       "          await google.colab.output.renderOutput(dataTable, element);\n",
       "          const docLink = document.createElement('div');\n",
       "          docLink.innerHTML = docLinkHtml;\n",
       "          element.appendChild(docLink);\n",
       "        }\n",
       "      </script>\n",
       "    </div>\n",
       "  </div>\n",
       "  "
      ],
      "text/plain": [
       "  AnswerKey                                           question  \\\n",
       "0         B  Which factor will most likely cause a person t...   \n",
       "1         B  Lichens are symbiotic organisms made of green ...   \n",
       "2         D  When a switch is used in an electrical circuit...   \n",
       "3         A  Which of the following is an example of an ass...   \n",
       "4         3  Rocks are classified as igneous, metamorphic, ...   \n",
       "\n",
       "                                       only_question  \\\n",
       "0  Which factor will most likely cause a person t...   \n",
       "1  Lichens are symbiotic organisms made of green ...   \n",
       "2  When a switch is used in an electrical circuit...   \n",
       "3  Which of the following is an example of an ass...   \n",
       "4  Rocks are classified as igneous, metamorphic, ...   \n",
       "\n",
       "                                        only_answers  quesiton_length  \n",
       "0  (A)  a leg muscle relaxing after exercise (B) ...               66  \n",
       "1  (A)  carbon dioxide (B) food (C) protection (D...              139  \n",
       "2  (A)  cause the charge to build. (B) increase a...               63  \n",
       "3  (A)  contact lens (B) motorcycle (C) raincoat ...               61  \n",
       "4  (1)  their color (2) their shape (3) how they ...               74  "
      ]
     },
     "execution_count": 39,
     "metadata": {},
     "output_type": "execute_result"
    }
   ],
   "source": [
    "df_easy_train.head()"
   ]
  },
  {
   "cell_type": "code",
   "execution_count": 40,
   "metadata": {
    "id": "kEycaXVJpJm2"
   },
   "outputs": [],
   "source": [
    "def data_generator(a):\n",
    "    '''\n",
    "    This function will accept a data point and returns a list of options\n",
    "    converts the only_options list of options.\n",
    "\n",
    "    Output will be as follows:\n",
    "\n",
    "    options = [option_1, option_2, option_3, option_4, option_5]                   \n",
    "\n",
    "    Note: If there's no option E then it will be written as 'None of the above'.\n",
    "    '''\n",
    "    options = []\n",
    "\n",
    "    if '(A)' in a:\n",
    "        option_1 = a.split('(B)')[0].replace('(A)','').lstrip()\n",
    "\n",
    "        b = ' '.join(i for i in a.split() if i not in option_1)\n",
    "        option_2 = b.split('(C)')[0].replace('(B)','').replace('(A)','').lstrip()\n",
    "\n",
    "        c = ' '.join(i for i in b.split() if i not in option_2)\n",
    "        option_3 = c.split('(D)')[0].replace('(C)','').replace('(B)','').replace('(A)','').lstrip()\n",
    "\n",
    "        if '(D)' not in c:\n",
    "            option_4 = 'None of the above'\n",
    "            option_5 = 'None of the above'\n",
    "        else:\n",
    "            if '(E)' not in c:\n",
    "                option_4 = c.split('(D)')[1].lstrip()\n",
    "                option_5 = 'None of the above'\n",
    "            else:\n",
    "                d = ' '.join(i for i in c.split() if i not in option_3)\n",
    "                option_4 = d.split('(E)')[0].replace('(D)','').replace('(C)','').replace('(B)','').replace('(A)','').lstrip()\n",
    "                option_5 = d.split('(E)')[1].lstrip()\n",
    "    else:\n",
    "        option_1 = a.split('(2)')[0].replace('(1)','').lstrip()\n",
    "\n",
    "        b = ' '.join(i for i in a.split() if i not in option_1)\n",
    "        option_2 = b.split('(3)')[0].replace('(2)','').replace('(1)','').lstrip()\n",
    "\n",
    "        c = ' '.join(i for i in b.split() if i not in option_2)\n",
    "        option_3 = c.split('(4)')[0].replace('(3)','').replace('(2)','').replace('(1)','').lstrip()\n",
    "\n",
    "        if '(4)' in c:\n",
    "            option_4 = c.split('(4)')[1].lstrip()\n",
    "        else:\n",
    "            option_4 = 'None of the above'\n",
    "        option_5 = 'None of the above'\n",
    "\n",
    "    options = [option_1, option_2, option_3, option_4, option_5]\n",
    "\n",
    "    return options"
   ]
  },
  {
   "cell_type": "code",
   "execution_count": 41,
   "metadata": {
    "id": "WnlQc1fLpJjd"
   },
   "outputs": [],
   "source": [
    "df_easy_dev['options_list'] = df_easy_dev['only_answers'].map(data_generator)\n",
    "df_easy_train['options_list'] = df_easy_train['only_answers'].map(data_generator)\n",
    "df_easy_test['options_list'] = df_easy_test['only_answers'].map(data_generator)"
   ]
  },
  {
   "cell_type": "code",
   "execution_count": 42,
   "metadata": {
    "colab": {
     "base_uri": "https://localhost:8080/",
     "height": 337
    },
    "id": "XDsRDtNbBR1H",
    "outputId": "0cc0f132-7009-45f7-f71e-abae3edb6fa3"
   },
   "outputs": [
    {
     "data": {
      "text/html": [
       "\n",
       "  <div id=\"df-44abaa6b-a109-480b-a144-37179a9520e5\">\n",
       "    <div class=\"colab-df-container\">\n",
       "      <div>\n",
       "<style scoped>\n",
       "    .dataframe tbody tr th:only-of-type {\n",
       "        vertical-align: middle;\n",
       "    }\n",
       "\n",
       "    .dataframe tbody tr th {\n",
       "        vertical-align: top;\n",
       "    }\n",
       "\n",
       "    .dataframe thead th {\n",
       "        text-align: right;\n",
       "    }\n",
       "</style>\n",
       "<table border=\"1\" class=\"dataframe\">\n",
       "  <thead>\n",
       "    <tr style=\"text-align: right;\">\n",
       "      <th></th>\n",
       "      <th>AnswerKey</th>\n",
       "      <th>question</th>\n",
       "      <th>only_question</th>\n",
       "      <th>only_answers</th>\n",
       "      <th>quesiton_length</th>\n",
       "      <th>options_list</th>\n",
       "    </tr>\n",
       "  </thead>\n",
       "  <tbody>\n",
       "    <tr>\n",
       "      <th>0</th>\n",
       "      <td>B</td>\n",
       "      <td>Which factor will most likely cause a person t...</td>\n",
       "      <td>Which factor will most likely cause a person t...</td>\n",
       "      <td>(A)  a leg muscle relaxing after exercise (B) ...</td>\n",
       "      <td>66</td>\n",
       "      <td>[a leg muscle relaxing after exercise , bacter...</td>\n",
       "    </tr>\n",
       "    <tr>\n",
       "      <th>1</th>\n",
       "      <td>B</td>\n",
       "      <td>Lichens are symbiotic organisms made of green ...</td>\n",
       "      <td>Lichens are symbiotic organisms made of green ...</td>\n",
       "      <td>(A)  carbon dioxide (B) food (C) protection (D...</td>\n",
       "      <td>139</td>\n",
       "      <td>[carbon dioxide , food , protection , water, N...</td>\n",
       "    </tr>\n",
       "    <tr>\n",
       "      <th>2</th>\n",
       "      <td>D</td>\n",
       "      <td>When a switch is used in an electrical circuit...</td>\n",
       "      <td>When a switch is used in an electrical circuit...</td>\n",
       "      <td>(A)  cause the charge to build. (B) increase a...</td>\n",
       "      <td>63</td>\n",
       "      <td>[cause the charge to build. , increase and dec...</td>\n",
       "    </tr>\n",
       "    <tr>\n",
       "      <th>3</th>\n",
       "      <td>A</td>\n",
       "      <td>Which of the following is an example of an ass...</td>\n",
       "      <td>Which of the following is an example of an ass...</td>\n",
       "      <td>(A)  contact lens (B) motorcycle (C) raincoat ...</td>\n",
       "      <td>61</td>\n",
       "      <td>[contact lens , motorcycle , raincoat , coffee...</td>\n",
       "    </tr>\n",
       "    <tr>\n",
       "      <th>4</th>\n",
       "      <td>3</td>\n",
       "      <td>Rocks are classified as igneous, metamorphic, ...</td>\n",
       "      <td>Rocks are classified as igneous, metamorphic, ...</td>\n",
       "      <td>(1)  their color (2) their shape (3) how they ...</td>\n",
       "      <td>74</td>\n",
       "      <td>[their color , shape , how they formed , miner...</td>\n",
       "    </tr>\n",
       "  </tbody>\n",
       "</table>\n",
       "</div>\n",
       "      <button class=\"colab-df-convert\" onclick=\"convertToInteractive('df-44abaa6b-a109-480b-a144-37179a9520e5')\"\n",
       "              title=\"Convert this dataframe to an interactive table.\"\n",
       "              style=\"display:none;\">\n",
       "        \n",
       "  <svg xmlns=\"http://www.w3.org/2000/svg\" height=\"24px\"viewBox=\"0 0 24 24\"\n",
       "       width=\"24px\">\n",
       "    <path d=\"M0 0h24v24H0V0z\" fill=\"none\"/>\n",
       "    <path d=\"M18.56 5.44l.94 2.06.94-2.06 2.06-.94-2.06-.94-.94-2.06-.94 2.06-2.06.94zm-11 1L8.5 8.5l.94-2.06 2.06-.94-2.06-.94L8.5 2.5l-.94 2.06-2.06.94zm10 10l.94 2.06.94-2.06 2.06-.94-2.06-.94-.94-2.06-.94 2.06-2.06.94z\"/><path d=\"M17.41 7.96l-1.37-1.37c-.4-.4-.92-.59-1.43-.59-.52 0-1.04.2-1.43.59L10.3 9.45l-7.72 7.72c-.78.78-.78 2.05 0 2.83L4 21.41c.39.39.9.59 1.41.59.51 0 1.02-.2 1.41-.59l7.78-7.78 2.81-2.81c.8-.78.8-2.07 0-2.86zM5.41 20L4 18.59l7.72-7.72 1.47 1.35L5.41 20z\"/>\n",
       "  </svg>\n",
       "      </button>\n",
       "      \n",
       "  <style>\n",
       "    .colab-df-container {\n",
       "      display:flex;\n",
       "      flex-wrap:wrap;\n",
       "      gap: 12px;\n",
       "    }\n",
       "\n",
       "    .colab-df-convert {\n",
       "      background-color: #E8F0FE;\n",
       "      border: none;\n",
       "      border-radius: 50%;\n",
       "      cursor: pointer;\n",
       "      display: none;\n",
       "      fill: #1967D2;\n",
       "      height: 32px;\n",
       "      padding: 0 0 0 0;\n",
       "      width: 32px;\n",
       "    }\n",
       "\n",
       "    .colab-df-convert:hover {\n",
       "      background-color: #E2EBFA;\n",
       "      box-shadow: 0px 1px 2px rgba(60, 64, 67, 0.3), 0px 1px 3px 1px rgba(60, 64, 67, 0.15);\n",
       "      fill: #174EA6;\n",
       "    }\n",
       "\n",
       "    [theme=dark] .colab-df-convert {\n",
       "      background-color: #3B4455;\n",
       "      fill: #D2E3FC;\n",
       "    }\n",
       "\n",
       "    [theme=dark] .colab-df-convert:hover {\n",
       "      background-color: #434B5C;\n",
       "      box-shadow: 0px 1px 3px 1px rgba(0, 0, 0, 0.15);\n",
       "      filter: drop-shadow(0px 1px 2px rgba(0, 0, 0, 0.3));\n",
       "      fill: #FFFFFF;\n",
       "    }\n",
       "  </style>\n",
       "\n",
       "      <script>\n",
       "        const buttonEl =\n",
       "          document.querySelector('#df-44abaa6b-a109-480b-a144-37179a9520e5 button.colab-df-convert');\n",
       "        buttonEl.style.display =\n",
       "          google.colab.kernel.accessAllowed ? 'block' : 'none';\n",
       "\n",
       "        async function convertToInteractive(key) {\n",
       "          const element = document.querySelector('#df-44abaa6b-a109-480b-a144-37179a9520e5');\n",
       "          const dataTable =\n",
       "            await google.colab.kernel.invokeFunction('convertToInteractive',\n",
       "                                                     [key], {});\n",
       "          if (!dataTable) return;\n",
       "\n",
       "          const docLinkHtml = 'Like what you see? Visit the ' +\n",
       "            '<a target=\"_blank\" href=https://colab.research.google.com/notebooks/data_table.ipynb>data table notebook</a>'\n",
       "            + ' to learn more about interactive tables.';\n",
       "          element.innerHTML = '';\n",
       "          dataTable['output_type'] = 'display_data';\n",
       "          await google.colab.output.renderOutput(dataTable, element);\n",
       "          const docLink = document.createElement('div');\n",
       "          docLink.innerHTML = docLinkHtml;\n",
       "          element.appendChild(docLink);\n",
       "        }\n",
       "      </script>\n",
       "    </div>\n",
       "  </div>\n",
       "  "
      ],
      "text/plain": [
       "  AnswerKey                                           question  \\\n",
       "0         B  Which factor will most likely cause a person t...   \n",
       "1         B  Lichens are symbiotic organisms made of green ...   \n",
       "2         D  When a switch is used in an electrical circuit...   \n",
       "3         A  Which of the following is an example of an ass...   \n",
       "4         3  Rocks are classified as igneous, metamorphic, ...   \n",
       "\n",
       "                                       only_question  \\\n",
       "0  Which factor will most likely cause a person t...   \n",
       "1  Lichens are symbiotic organisms made of green ...   \n",
       "2  When a switch is used in an electrical circuit...   \n",
       "3  Which of the following is an example of an ass...   \n",
       "4  Rocks are classified as igneous, metamorphic, ...   \n",
       "\n",
       "                                        only_answers  quesiton_length  \\\n",
       "0  (A)  a leg muscle relaxing after exercise (B) ...               66   \n",
       "1  (A)  carbon dioxide (B) food (C) protection (D...              139   \n",
       "2  (A)  cause the charge to build. (B) increase a...               63   \n",
       "3  (A)  contact lens (B) motorcycle (C) raincoat ...               61   \n",
       "4  (1)  their color (2) their shape (3) how they ...               74   \n",
       "\n",
       "                                        options_list  \n",
       "0  [a leg muscle relaxing after exercise , bacter...  \n",
       "1  [carbon dioxide , food , protection , water, N...  \n",
       "2  [cause the charge to build. , increase and dec...  \n",
       "3  [contact lens , motorcycle , raincoat , coffee...  \n",
       "4  [their color , shape , how they formed , miner...  "
      ]
     },
     "execution_count": 42,
     "metadata": {},
     "output_type": "execute_result"
    }
   ],
   "source": [
    "df_easy_train.head()"
   ]
  },
  {
   "cell_type": "code",
   "execution_count": 62,
   "metadata": {
    "id": "JMoY9PdYuipm"
   },
   "outputs": [],
   "source": [
    "df_challenge_dev['options_list'] = df_challenge_dev['only_answers'].map(data_generator)\n",
    "df_challenge_train['options_list'] = df_challenge_train['only_answers'].map(data_generator)\n",
    "df_challenge_test['options_list'] = df_challenge_test['only_answers'].map(data_generator)"
   ]
  },
  {
   "cell_type": "code",
   "execution_count": 51,
   "metadata": {
    "id": "5qf3KDlkBRt3"
   },
   "outputs": [],
   "source": [
    "def get_context(question, options):\n",
    "    '''\n",
    "    This function will return a context after joining a question\n",
    "    and its options separately. \n",
    "    For example: question + option_1\n",
    "                 question + option_2\n",
    "                 question + option_3\n",
    "                 question + option_4\n",
    "   '''\n",
    "    scores = []\n",
    "    sentences = []\n",
    "    choices = []\n",
    "    \n",
    "    #Dividing options into separate parts.\n",
    "    if '(A)' in options:\n",
    "\n",
    "        split_1 = options.split('(B)')\n",
    "        option_1 = split_1[0].replace('(A)','')\n",
    "        choices.append(option_1)\n",
    "\n",
    "        split_2 = split_1[1].split('(C)')\n",
    "        option_2 = split_2[0]\n",
    "        choices.append(option_2)\n",
    "\n",
    "        if '(D)' not in split_2[1]:\n",
    "            option_3 = split_2[1]\n",
    "            choices.append(option_3)\n",
    "\n",
    "        elif '(D)' in split_2[1]:\n",
    "            split_3 = split_2[1].split('(D)')\n",
    "            option_3 = split_3[0]\n",
    "            choices.append(option_3)\n",
    "\n",
    "            if '(E)' not in split_3[1]:\n",
    "                option_4 = split_3[1]\n",
    "                choices.append(option_4)\n",
    "\n",
    "            else:\n",
    "                split_4 = split_3[1].split('(E)')\n",
    "                option_4 = split_4[0]\n",
    "                choices.append(option_4)\n",
    "\n",
    "                option_5 = split_4[1]\n",
    "                choices.append(option_5)\n",
    "    else:\n",
    "        split_1 = options.split('(2)')\n",
    "        option_1 = split_1[0].replace('(1)','')\n",
    "        choices.append(option_1)\n",
    "\n",
    "        split_2 = split_1[1].split('(3)')\n",
    "        option_2 = split_2[0]\n",
    "        choices.append(option_2)\n",
    "\n",
    "        if '(4)' not in split_2[1]:\n",
    "            option_3 = split_2[1]\n",
    "            choices.append(option_3)\n",
    "\n",
    "        elif '(4)' in split_2[1]:\n",
    "            split_3 = split_2[1].split('(4)')\n",
    "            option_3 = split_3[0]\n",
    "            choices.append(option_3)\n",
    "\n",
    "            if '(5)' not in split_3[1]:\n",
    "                option_4 = split_3[1]\n",
    "                choices.append(option_4)\n",
    "\n",
    "            else:\n",
    "                split_4 = split_3[1].split('(5)')\n",
    "                option_4 = split_4[0]\n",
    "                choices.append(option_4)\n",
    "\n",
    "                option_5 = split_4[1]\n",
    "                choices.append(option_5)\n",
    "    \n",
    "    for i in [choices]:\n",
    "  \n",
    "        query=question+f'{i}'\n",
    "        search_start = time.time()\n",
    "        search = {\"size\":20,\"query\": {\"match\": {\"body\": query}}}\n",
    "        #print(search)\n",
    "        response = es.search(index='corpus2', body=json.dumps(search))\n",
    "        search_time = time.time() - search_start\n",
    "        #print(\"{} total hits.\".format(response[\"hits\"][\"total\"][\"value\"]))\n",
    "        #print(\"search time: {:.2f} ms\".format(search_time * 1000))\n",
    "\n",
    "        #Searching in the 'corpus' index.\n",
    "        a = es.search(index='corpus2', body=json.dumps(search))\n",
    "\n",
    "        for j in a['hits']['hits']:\n",
    "            sentence = j['_source']\n",
    "            out=list(sentence.values())\n",
    "            out = reduce(operator.concat,out)\n",
    "            sentences.append(out)\n",
    "\n",
    "   \n",
    "    \n",
    "    context= ' '.join(sentences) #Selecting top 20 sentences for the context.\n",
    "    \n",
    "    return context"
   ]
  },
  {
   "cell_type": "code",
   "execution_count": 52,
   "metadata": {
    "id": "npLjjPgDI4LP"
   },
   "outputs": [],
   "source": [
    "def get_context_for_each_candidate(question,options_list):\n",
    "    \"\"\" Searches the user query and finds the best matches using elasticsearch.\"\"\"\n",
    "    #query = input(\"Enter query: \")\n",
    "    \"\"\"This function will return a context after joining a question\n",
    "    and its options separately. \n",
    "    For example: question + option_1\n",
    "                 question + option_2\n",
    "                 question + option_3\n",
    "                 question + option_4\"\"\"\n",
    "   \n",
    "    option_1_docs = []\n",
    "    option_2_docs =  []\n",
    "    option_3_docs =  []\n",
    "    option_4_docs =  []\n",
    "    option_5_docs =  []\n",
    "    for j in range(len(options_list)):\n",
    "        query=question+options_list[j]\n",
    "        search_start = time.time()\n",
    "        search = {\"size\": 8,\"query\": {\"match\": {\"body\": query}}}\n",
    "        #print(search)\n",
    "        response = es.search(index='corpus2', body=json.dumps(search))\n",
    "        search_time = time.time() - search_start\n",
    "        #print(\"{} total hits.\".format(response[\"hits\"][\"total\"][\"value\"]))\n",
    "        #print(\"search time: {:.2f} ms\".format(search_time * 1000))\n",
    "        sentences = []\n",
    "        for hit in response[\"hits\"][\"hits\"]:\n",
    "            sentence = hit['_source']\n",
    "            out=list(sentence.values())\n",
    "            out = reduce(operator.concat,out)\n",
    "           \n",
    "            if j == 0:\n",
    "                option_1_docs.append(out)\n",
    "            elif j == 1:\n",
    "                option_2_docs.append(out)\n",
    "            elif j == 2:\n",
    "                option_3_docs.append(out)\n",
    "            elif j == 3:\n",
    "                option_4_docs.append(out)\n",
    "            elif j == 4:\n",
    "                option_5_docs.append(out)\n",
    "        \n",
    "    return pd.Series([option_1_docs, option_2_docs, option_3_docs, option_4_docs, option_5_docs])\n",
    "\n"
   ]
  },
  {
   "cell_type": "code",
   "execution_count": 53,
   "metadata": {
    "id": "y5rpuOm9T4s-"
   },
   "outputs": [],
   "source": [
    "a = df_easy_train['only_question'].iloc[1139]\n",
    "b = df_easy_train['options_list'].iloc[1139]"
   ]
  },
  {
   "cell_type": "code",
   "execution_count": 56,
   "metadata": {
    "colab": {
     "base_uri": "https://localhost:8080/"
    },
    "id": "HaMSaS2pJn7N",
    "outputId": "f094c296-7fdc-4d17-d8d3-0e6c5a62f56b"
   },
   "outputs": [
    {
     "name": "stdout",
     "output_type": "stream",
     "text": [
      "search time: 929.67 ms\n",
      "search time: 858.03 ms\n",
      "search time: 341.28 ms\n",
      "search time: 230.67 ms\n",
      "search time: 225.32 ms\n"
     ]
    }
   ],
   "source": [
    "q,w,e,r,t=get_context_for_each_candidate(a,b)"
   ]
  },
  {
   "cell_type": "code",
   "execution_count": null,
   "metadata": {},
   "outputs": [],
   "source": [
    "df_easy_train[['option_1_docs','option_2_docs','option_3_docs','option_4_docs','option_5_docs',]] = df_easy_train[['only_question','options_list']].apply(lambda x: get_context_for_each_candidate(*x), axis=1)\n",
    "df_easy_dev[['option_1_docs','option_2_docs','option_3_docs','option_4_docs','option_5_docs',]] = df_easy_dev[['only_question','options_list']].apply(lambda x: get_context_for_each_candidate(*x), axis=1)\n",
    "df_easy_test[['option_1_docs','option_2_docs','option_3_docs','option_4_docs','option_5_docs',]] = df_easy_test[['only_question','options_list']].apply(lambda x: get_context_for_each_candidate(*x), axis=1)"
   ]
  },
  {
   "cell_type": "code",
   "execution_count": 59,
   "metadata": {
    "colab": {
     "base_uri": "https://localhost:8080/",
     "height": 600
    },
    "id": "-UQPYuQSBvsd",
    "outputId": "db89490a-77bd-4e0f-a7bc-ecdec0893895"
   },
   "outputs": [
    {
     "data": {
      "text/html": [
       "\n",
       "  <div id=\"df-9e6adce9-a1e7-4c17-837a-9d34d7a9839d\">\n",
       "    <div class=\"colab-df-container\">\n",
       "      <div>\n",
       "<style scoped>\n",
       "    .dataframe tbody tr th:only-of-type {\n",
       "        vertical-align: middle;\n",
       "    }\n",
       "\n",
       "    .dataframe tbody tr th {\n",
       "        vertical-align: top;\n",
       "    }\n",
       "\n",
       "    .dataframe thead th {\n",
       "        text-align: right;\n",
       "    }\n",
       "</style>\n",
       "<table border=\"1\" class=\"dataframe\">\n",
       "  <thead>\n",
       "    <tr style=\"text-align: right;\">\n",
       "      <th></th>\n",
       "      <th>AnswerKey</th>\n",
       "      <th>question</th>\n",
       "      <th>only_question</th>\n",
       "      <th>only_answers</th>\n",
       "      <th>quesiton_length</th>\n",
       "      <th>options_list</th>\n",
       "      <th>option_1_docs</th>\n",
       "      <th>option_2_docs</th>\n",
       "      <th>option_3_docs</th>\n",
       "      <th>option_4_docs</th>\n",
       "      <th>option_5_docs</th>\n",
       "    </tr>\n",
       "  </thead>\n",
       "  <tbody>\n",
       "    <tr>\n",
       "      <th>0</th>\n",
       "      <td>B</td>\n",
       "      <td>Which factor will most likely cause a person t...</td>\n",
       "      <td>Which factor will most likely cause a person t...</td>\n",
       "      <td>(A)  a leg muscle relaxing after exercise (B) ...</td>\n",
       "      <td>66</td>\n",
       "      <td>[a leg muscle relaxing after exercise , bacter...</td>\n",
       "      <td>[Which will most likely cause variations to oc...</td>\n",
       "      <td>[If a bacterial infection is the suspected cau...</td>\n",
       "      <td>[A person who has been sick for one week with ...</td>\n",
       "      <td>[Which will most likely cause variations to oc...</td>\n",
       "      <td>[Fever: most infections of the lung will cause...</td>\n",
       "    </tr>\n",
       "    <tr>\n",
       "      <th>1</th>\n",
       "      <td>B</td>\n",
       "      <td>Lichens are symbiotic organisms made of green ...</td>\n",
       "      <td>Lichens are symbiotic organisms made of green ...</td>\n",
       "      <td>(A)  carbon dioxide (B) food (C) protection (D...</td>\n",
       "      <td>139</td>\n",
       "      <td>[carbon dioxide , food , protection , water, N...</td>\n",
       "      <td>[Lichens are comprised of blue-green or green ...</td>\n",
       "      <td>[Lichens are comprised of blue-green or green ...</td>\n",
       "      <td>[Lichens are comprised of blue-green or green ...</td>\n",
       "      <td>[Lichens are comprised of blue-green or green ...</td>\n",
       "      <td>[Lichens are comprised of blue-green or green ...</td>\n",
       "    </tr>\n",
       "    <tr>\n",
       "      <th>2</th>\n",
       "      <td>D</td>\n",
       "      <td>When a switch is used in an electrical circuit...</td>\n",
       "      <td>When a switch is used in an electrical circuit...</td>\n",
       "      <td>(A)  cause the charge to build. (B) increase a...</td>\n",
       "      <td>63</td>\n",
       "      <td>[cause the charge to build. , increase and dec...</td>\n",
       "      <td>[When A Switch Is Closed In An Electrical Circ...</td>\n",
       "      <td>[When A Switch Is Closed In An Electrical Circ...</td>\n",
       "      <td>[When A Switch Is Closed In An Electrical Circ...</td>\n",
       "      <td>[When A Switch Is Closed In An Electrical Circ...</td>\n",
       "      <td>[When A Switch Is Closed In An Electrical Circ...</td>\n",
       "    </tr>\n",
       "    <tr>\n",
       "      <th>3</th>\n",
       "      <td>A</td>\n",
       "      <td>Which of the following is an example of an ass...</td>\n",
       "      <td>Which of the following is an example of an ass...</td>\n",
       "      <td>(A)  contact lens (B) motorcycle (C) raincoat ...</td>\n",
       "      <td>61</td>\n",
       "      <td>[contact lens , motorcycle , raincoat , coffee...</td>\n",
       "      <td>[Which of the following is an example of an an...</td>\n",
       "      <td>[Which of the following is an example of an an...</td>\n",
       "      <td>[Which of the following is an example of an an...</td>\n",
       "      <td>[Which of the following is an example of an an...</td>\n",
       "      <td>[Which of the following is an example of an an...</td>\n",
       "    </tr>\n",
       "    <tr>\n",
       "      <th>4</th>\n",
       "      <td>3</td>\n",
       "      <td>Rocks are classified as igneous, metamorphic, ...</td>\n",
       "      <td>Rocks are classified as igneous, metamorphic, ...</td>\n",
       "      <td>(1)  their color (2) their shape (3) how they ...</td>\n",
       "      <td>74</td>\n",
       "      <td>[their color , shape , how they formed , miner...</td>\n",
       "      <td>[Metamorphic rocks can begin as igneous, sedim...</td>\n",
       "      <td>[Metamorphic rocks can begin as igneous, sedim...</td>\n",
       "      <td>[Rocks are formed on Earth as igneous, sedimen...</td>\n",
       "      <td>[Metamorphic rocks can begin as igneous, sedim...</td>\n",
       "      <td>[Metamorphic rocks can begin as igneous, sedim...</td>\n",
       "    </tr>\n",
       "  </tbody>\n",
       "</table>\n",
       "</div>\n",
       "      <button class=\"colab-df-convert\" onclick=\"convertToInteractive('df-9e6adce9-a1e7-4c17-837a-9d34d7a9839d')\"\n",
       "              title=\"Convert this dataframe to an interactive table.\"\n",
       "              style=\"display:none;\">\n",
       "        \n",
       "  <svg xmlns=\"http://www.w3.org/2000/svg\" height=\"24px\"viewBox=\"0 0 24 24\"\n",
       "       width=\"24px\">\n",
       "    <path d=\"M0 0h24v24H0V0z\" fill=\"none\"/>\n",
       "    <path d=\"M18.56 5.44l.94 2.06.94-2.06 2.06-.94-2.06-.94-.94-2.06-.94 2.06-2.06.94zm-11 1L8.5 8.5l.94-2.06 2.06-.94-2.06-.94L8.5 2.5l-.94 2.06-2.06.94zm10 10l.94 2.06.94-2.06 2.06-.94-2.06-.94-.94-2.06-.94 2.06-2.06.94z\"/><path d=\"M17.41 7.96l-1.37-1.37c-.4-.4-.92-.59-1.43-.59-.52 0-1.04.2-1.43.59L10.3 9.45l-7.72 7.72c-.78.78-.78 2.05 0 2.83L4 21.41c.39.39.9.59 1.41.59.51 0 1.02-.2 1.41-.59l7.78-7.78 2.81-2.81c.8-.78.8-2.07 0-2.86zM5.41 20L4 18.59l7.72-7.72 1.47 1.35L5.41 20z\"/>\n",
       "  </svg>\n",
       "      </button>\n",
       "      \n",
       "  <style>\n",
       "    .colab-df-container {\n",
       "      display:flex;\n",
       "      flex-wrap:wrap;\n",
       "      gap: 12px;\n",
       "    }\n",
       "\n",
       "    .colab-df-convert {\n",
       "      background-color: #E8F0FE;\n",
       "      border: none;\n",
       "      border-radius: 50%;\n",
       "      cursor: pointer;\n",
       "      display: none;\n",
       "      fill: #1967D2;\n",
       "      height: 32px;\n",
       "      padding: 0 0 0 0;\n",
       "      width: 32px;\n",
       "    }\n",
       "\n",
       "    .colab-df-convert:hover {\n",
       "      background-color: #E2EBFA;\n",
       "      box-shadow: 0px 1px 2px rgba(60, 64, 67, 0.3), 0px 1px 3px 1px rgba(60, 64, 67, 0.15);\n",
       "      fill: #174EA6;\n",
       "    }\n",
       "\n",
       "    [theme=dark] .colab-df-convert {\n",
       "      background-color: #3B4455;\n",
       "      fill: #D2E3FC;\n",
       "    }\n",
       "\n",
       "    [theme=dark] .colab-df-convert:hover {\n",
       "      background-color: #434B5C;\n",
       "      box-shadow: 0px 1px 3px 1px rgba(0, 0, 0, 0.15);\n",
       "      filter: drop-shadow(0px 1px 2px rgba(0, 0, 0, 0.3));\n",
       "      fill: #FFFFFF;\n",
       "    }\n",
       "  </style>\n",
       "\n",
       "      <script>\n",
       "        const buttonEl =\n",
       "          document.querySelector('#df-9e6adce9-a1e7-4c17-837a-9d34d7a9839d button.colab-df-convert');\n",
       "        buttonEl.style.display =\n",
       "          google.colab.kernel.accessAllowed ? 'block' : 'none';\n",
       "\n",
       "        async function convertToInteractive(key) {\n",
       "          const element = document.querySelector('#df-9e6adce9-a1e7-4c17-837a-9d34d7a9839d');\n",
       "          const dataTable =\n",
       "            await google.colab.kernel.invokeFunction('convertToInteractive',\n",
       "                                                     [key], {});\n",
       "          if (!dataTable) return;\n",
       "\n",
       "          const docLinkHtml = 'Like what you see? Visit the ' +\n",
       "            '<a target=\"_blank\" href=https://colab.research.google.com/notebooks/data_table.ipynb>data table notebook</a>'\n",
       "            + ' to learn more about interactive tables.';\n",
       "          element.innerHTML = '';\n",
       "          dataTable['output_type'] = 'display_data';\n",
       "          await google.colab.output.renderOutput(dataTable, element);\n",
       "          const docLink = document.createElement('div');\n",
       "          docLink.innerHTML = docLinkHtml;\n",
       "          element.appendChild(docLink);\n",
       "        }\n",
       "      </script>\n",
       "    </div>\n",
       "  </div>\n",
       "  "
      ],
      "text/plain": [
       "  AnswerKey                                           question  \\\n",
       "0         B  Which factor will most likely cause a person t...   \n",
       "1         B  Lichens are symbiotic organisms made of green ...   \n",
       "2         D  When a switch is used in an electrical circuit...   \n",
       "3         A  Which of the following is an example of an ass...   \n",
       "4         3  Rocks are classified as igneous, metamorphic, ...   \n",
       "\n",
       "                                       only_question  \\\n",
       "0  Which factor will most likely cause a person t...   \n",
       "1  Lichens are symbiotic organisms made of green ...   \n",
       "2  When a switch is used in an electrical circuit...   \n",
       "3  Which of the following is an example of an ass...   \n",
       "4  Rocks are classified as igneous, metamorphic, ...   \n",
       "\n",
       "                                        only_answers  quesiton_length  \\\n",
       "0  (A)  a leg muscle relaxing after exercise (B) ...               66   \n",
       "1  (A)  carbon dioxide (B) food (C) protection (D...              139   \n",
       "2  (A)  cause the charge to build. (B) increase a...               63   \n",
       "3  (A)  contact lens (B) motorcycle (C) raincoat ...               61   \n",
       "4  (1)  their color (2) their shape (3) how they ...               74   \n",
       "\n",
       "                                        options_list  \\\n",
       "0  [a leg muscle relaxing after exercise , bacter...   \n",
       "1  [carbon dioxide , food , protection , water, N...   \n",
       "2  [cause the charge to build. , increase and dec...   \n",
       "3  [contact lens , motorcycle , raincoat , coffee...   \n",
       "4  [their color , shape , how they formed , miner...   \n",
       "\n",
       "                                       option_1_docs  \\\n",
       "0  [Which will most likely cause variations to oc...   \n",
       "1  [Lichens are comprised of blue-green or green ...   \n",
       "2  [When A Switch Is Closed In An Electrical Circ...   \n",
       "3  [Which of the following is an example of an an...   \n",
       "4  [Metamorphic rocks can begin as igneous, sedim...   \n",
       "\n",
       "                                       option_2_docs  \\\n",
       "0  [If a bacterial infection is the suspected cau...   \n",
       "1  [Lichens are comprised of blue-green or green ...   \n",
       "2  [When A Switch Is Closed In An Electrical Circ...   \n",
       "3  [Which of the following is an example of an an...   \n",
       "4  [Metamorphic rocks can begin as igneous, sedim...   \n",
       "\n",
       "                                       option_3_docs  \\\n",
       "0  [A person who has been sick for one week with ...   \n",
       "1  [Lichens are comprised of blue-green or green ...   \n",
       "2  [When A Switch Is Closed In An Electrical Circ...   \n",
       "3  [Which of the following is an example of an an...   \n",
       "4  [Rocks are formed on Earth as igneous, sedimen...   \n",
       "\n",
       "                                       option_4_docs  \\\n",
       "0  [Which will most likely cause variations to oc...   \n",
       "1  [Lichens are comprised of blue-green or green ...   \n",
       "2  [When A Switch Is Closed In An Electrical Circ...   \n",
       "3  [Which of the following is an example of an an...   \n",
       "4  [Metamorphic rocks can begin as igneous, sedim...   \n",
       "\n",
       "                                       option_5_docs  \n",
       "0  [Fever: most infections of the lung will cause...  \n",
       "1  [Lichens are comprised of blue-green or green ...  \n",
       "2  [When A Switch Is Closed In An Electrical Circ...  \n",
       "3  [Which of the following is an example of an an...  \n",
       "4  [Metamorphic rocks can begin as igneous, sedim...  "
      ]
     },
     "execution_count": 59,
     "metadata": {},
     "output_type": "execute_result"
    }
   ],
   "source": [
    "df_easy_train.head()"
   ]
  },
  {
   "cell_type": "code",
   "execution_count": 60,
   "metadata": {
    "id": "rCXCO3ivBvoQ"
   },
   "outputs": [],
   "source": [
    "df_easy_train.to_csv('df_easy_train_3.csv', index=False)\n",
    "df_easy_dev.to_csv('df_easy_dev_3.csv', index=False)\n",
    "df_easy_test.to_csv('df_easy_test_3.csv', index=False)"
   ]
  },
  {
   "cell_type": "code",
   "execution_count": null,
   "metadata": {},
   "outputs": [],
   "source": [
    "df_challenge_train[['option_1_docs','option_2_docs','option_3_docs','option_4_docs','option_5_docs',]] = df_challenge_train[['only_question','options_list']].apply(lambda x: get_context_for_each_candidate(*x), axis=1)\n",
    "df_challenge_dev[['option_1_docs','option_2_docs','option_3_docs','option_4_docs','option_5_docs',]] = df_challenge_dev[['only_question','options_list']].apply(lambda x: get_context_for_each_candidate(*x), axis=1)\n",
    "df_challenge_test[['option_1_docs','option_2_docs','option_3_docs','option_4_docs','option_5_docs',]] = df_challenge_test[['only_question','options_list']].apply(lambda x: get_context_for_each_candidate(*x), axis=1)"
   ]
  },
  {
   "cell_type": "code",
   "execution_count": 64,
   "metadata": {
    "id": "iLnl9NEzW1uG"
   },
   "outputs": [],
   "source": [
    "df_challenge_train.to_csv('df_challenge_train_3.csv', index=False)\n",
    "df_challenge_dev.to_csv('df_challenge_dev_3.csv', index=False)\n",
    "df_challenge_test.to_csv('df_challenge_test_3.csv', index=False)"
   ]
  },
  {
   "cell_type": "code",
   "execution_count": null,
   "metadata": {},
   "outputs": [],
   "source": [
    "list_of_context = []\n",
    "\n",
    "for i in range(len(df_easy_train)):\n",
    "    question = df_easy_train['only_question'].iloc[i]\n",
    "    answers = df_easy_train['only_answers'].iloc[i]\n",
    "    \n",
    "    context = get_context(question, answers)\n",
    "    list_of_context.append(context)"
   ]
  },
  {
   "cell_type": "code",
   "execution_count": 66,
   "metadata": {
    "id": "X0cKlFg-CvAu"
   },
   "outputs": [],
   "source": [
    "df_easy_train['context'] = list_of_context"
   ]
  },
  {
   "cell_type": "code",
   "execution_count": 67,
   "metadata": {
    "colab": {
     "base_uri": "https://localhost:8080/",
     "height": 600
    },
    "id": "O_cjiflICu4L",
    "outputId": "362f6509-4d40-49d3-e01f-53df2887f148"
   },
   "outputs": [
    {
     "data": {
      "text/html": [
       "\n",
       "  <div id=\"df-0410a972-7c47-451a-8b4a-a066c181c0d4\">\n",
       "    <div class=\"colab-df-container\">\n",
       "      <div>\n",
       "<style scoped>\n",
       "    .dataframe tbody tr th:only-of-type {\n",
       "        vertical-align: middle;\n",
       "    }\n",
       "\n",
       "    .dataframe tbody tr th {\n",
       "        vertical-align: top;\n",
       "    }\n",
       "\n",
       "    .dataframe thead th {\n",
       "        text-align: right;\n",
       "    }\n",
       "</style>\n",
       "<table border=\"1\" class=\"dataframe\">\n",
       "  <thead>\n",
       "    <tr style=\"text-align: right;\">\n",
       "      <th></th>\n",
       "      <th>AnswerKey</th>\n",
       "      <th>question</th>\n",
       "      <th>only_question</th>\n",
       "      <th>only_answers</th>\n",
       "      <th>quesiton_length</th>\n",
       "      <th>options_list</th>\n",
       "      <th>option_1_docs</th>\n",
       "      <th>option_2_docs</th>\n",
       "      <th>option_3_docs</th>\n",
       "      <th>option_4_docs</th>\n",
       "      <th>option_5_docs</th>\n",
       "      <th>context</th>\n",
       "    </tr>\n",
       "  </thead>\n",
       "  <tbody>\n",
       "    <tr>\n",
       "      <th>0</th>\n",
       "      <td>B</td>\n",
       "      <td>Which factor will most likely cause a person t...</td>\n",
       "      <td>Which factor will most likely cause a person t...</td>\n",
       "      <td>(A)  a leg muscle relaxing after exercise (B) ...</td>\n",
       "      <td>66</td>\n",
       "      <td>[a leg muscle relaxing after exercise , bacter...</td>\n",
       "      <td>[Which will most likely cause variations to oc...</td>\n",
       "      <td>[If a bacterial infection is the suspected cau...</td>\n",
       "      <td>[A person who has been sick for one week with ...</td>\n",
       "      <td>[Which will most likely cause variations to oc...</td>\n",
       "      <td>[Fever: most infections of the lung will cause...</td>\n",
       "      <td>If a bacterial infection is the suspected caus...</td>\n",
       "    </tr>\n",
       "    <tr>\n",
       "      <th>1</th>\n",
       "      <td>B</td>\n",
       "      <td>Lichens are symbiotic organisms made of green ...</td>\n",
       "      <td>Lichens are symbiotic organisms made of green ...</td>\n",
       "      <td>(A)  carbon dioxide (B) food (C) protection (D...</td>\n",
       "      <td>139</td>\n",
       "      <td>[carbon dioxide , food , protection , water, N...</td>\n",
       "      <td>[Lichens are comprised of blue-green or green ...</td>\n",
       "      <td>[Lichens are comprised of blue-green or green ...</td>\n",
       "      <td>[Lichens are comprised of blue-green or green ...</td>\n",
       "      <td>[Lichens are comprised of blue-green or green ...</td>\n",
       "      <td>[Lichens are comprised of blue-green or green ...</td>\n",
       "      <td>Lichens are comprised of blue-green or green a...</td>\n",
       "    </tr>\n",
       "    <tr>\n",
       "      <th>2</th>\n",
       "      <td>D</td>\n",
       "      <td>When a switch is used in an electrical circuit...</td>\n",
       "      <td>When a switch is used in an electrical circuit...</td>\n",
       "      <td>(A)  cause the charge to build. (B) increase a...</td>\n",
       "      <td>63</td>\n",
       "      <td>[cause the charge to build. , increase and dec...</td>\n",
       "      <td>[When A Switch Is Closed In An Electrical Circ...</td>\n",
       "      <td>[When A Switch Is Closed In An Electrical Circ...</td>\n",
       "      <td>[When A Switch Is Closed In An Electrical Circ...</td>\n",
       "      <td>[When A Switch Is Closed In An Electrical Circ...</td>\n",
       "      <td>[When A Switch Is Closed In An Electrical Circ...</td>\n",
       "      <td>VOLTAGE - That force which is generated to cau...</td>\n",
       "    </tr>\n",
       "    <tr>\n",
       "      <th>3</th>\n",
       "      <td>A</td>\n",
       "      <td>Which of the following is an example of an ass...</td>\n",
       "      <td>Which of the following is an example of an ass...</td>\n",
       "      <td>(A)  contact lens (B) motorcycle (C) raincoat ...</td>\n",
       "      <td>61</td>\n",
       "      <td>[contact lens , motorcycle , raincoat , coffee...</td>\n",
       "      <td>[Which of the following is an example of an an...</td>\n",
       "      <td>[Which of the following is an example of an an...</td>\n",
       "      <td>[Which of the following is an example of an an...</td>\n",
       "      <td>[Which of the following is an example of an an...</td>\n",
       "      <td>[Which of the following is an example of an an...</td>\n",
       "      <td>Which of the following is an example of an ang...</td>\n",
       "    </tr>\n",
       "    <tr>\n",
       "      <th>4</th>\n",
       "      <td>3</td>\n",
       "      <td>Rocks are classified as igneous, metamorphic, ...</td>\n",
       "      <td>Rocks are classified as igneous, metamorphic, ...</td>\n",
       "      <td>(1)  their color (2) their shape (3) how they ...</td>\n",
       "      <td>74</td>\n",
       "      <td>[their color , shape , how they formed , miner...</td>\n",
       "      <td>[Metamorphic rocks can begin as igneous, sedim...</td>\n",
       "      <td>[Metamorphic rocks can begin as igneous, sedim...</td>\n",
       "      <td>[Rocks are formed on Earth as igneous, sedimen...</td>\n",
       "      <td>[Metamorphic rocks can begin as igneous, sedim...</td>\n",
       "      <td>[Metamorphic rocks can begin as igneous, sedim...</td>\n",
       "      <td>Igneous, sedimentary, and metamorphic rocks; h...</td>\n",
       "    </tr>\n",
       "  </tbody>\n",
       "</table>\n",
       "</div>\n",
       "      <button class=\"colab-df-convert\" onclick=\"convertToInteractive('df-0410a972-7c47-451a-8b4a-a066c181c0d4')\"\n",
       "              title=\"Convert this dataframe to an interactive table.\"\n",
       "              style=\"display:none;\">\n",
       "        \n",
       "  <svg xmlns=\"http://www.w3.org/2000/svg\" height=\"24px\"viewBox=\"0 0 24 24\"\n",
       "       width=\"24px\">\n",
       "    <path d=\"M0 0h24v24H0V0z\" fill=\"none\"/>\n",
       "    <path d=\"M18.56 5.44l.94 2.06.94-2.06 2.06-.94-2.06-.94-.94-2.06-.94 2.06-2.06.94zm-11 1L8.5 8.5l.94-2.06 2.06-.94-2.06-.94L8.5 2.5l-.94 2.06-2.06.94zm10 10l.94 2.06.94-2.06 2.06-.94-2.06-.94-.94-2.06-.94 2.06-2.06.94z\"/><path d=\"M17.41 7.96l-1.37-1.37c-.4-.4-.92-.59-1.43-.59-.52 0-1.04.2-1.43.59L10.3 9.45l-7.72 7.72c-.78.78-.78 2.05 0 2.83L4 21.41c.39.39.9.59 1.41.59.51 0 1.02-.2 1.41-.59l7.78-7.78 2.81-2.81c.8-.78.8-2.07 0-2.86zM5.41 20L4 18.59l7.72-7.72 1.47 1.35L5.41 20z\"/>\n",
       "  </svg>\n",
       "      </button>\n",
       "      \n",
       "  <style>\n",
       "    .colab-df-container {\n",
       "      display:flex;\n",
       "      flex-wrap:wrap;\n",
       "      gap: 12px;\n",
       "    }\n",
       "\n",
       "    .colab-df-convert {\n",
       "      background-color: #E8F0FE;\n",
       "      border: none;\n",
       "      border-radius: 50%;\n",
       "      cursor: pointer;\n",
       "      display: none;\n",
       "      fill: #1967D2;\n",
       "      height: 32px;\n",
       "      padding: 0 0 0 0;\n",
       "      width: 32px;\n",
       "    }\n",
       "\n",
       "    .colab-df-convert:hover {\n",
       "      background-color: #E2EBFA;\n",
       "      box-shadow: 0px 1px 2px rgba(60, 64, 67, 0.3), 0px 1px 3px 1px rgba(60, 64, 67, 0.15);\n",
       "      fill: #174EA6;\n",
       "    }\n",
       "\n",
       "    [theme=dark] .colab-df-convert {\n",
       "      background-color: #3B4455;\n",
       "      fill: #D2E3FC;\n",
       "    }\n",
       "\n",
       "    [theme=dark] .colab-df-convert:hover {\n",
       "      background-color: #434B5C;\n",
       "      box-shadow: 0px 1px 3px 1px rgba(0, 0, 0, 0.15);\n",
       "      filter: drop-shadow(0px 1px 2px rgba(0, 0, 0, 0.3));\n",
       "      fill: #FFFFFF;\n",
       "    }\n",
       "  </style>\n",
       "\n",
       "      <script>\n",
       "        const buttonEl =\n",
       "          document.querySelector('#df-0410a972-7c47-451a-8b4a-a066c181c0d4 button.colab-df-convert');\n",
       "        buttonEl.style.display =\n",
       "          google.colab.kernel.accessAllowed ? 'block' : 'none';\n",
       "\n",
       "        async function convertToInteractive(key) {\n",
       "          const element = document.querySelector('#df-0410a972-7c47-451a-8b4a-a066c181c0d4');\n",
       "          const dataTable =\n",
       "            await google.colab.kernel.invokeFunction('convertToInteractive',\n",
       "                                                     [key], {});\n",
       "          if (!dataTable) return;\n",
       "\n",
       "          const docLinkHtml = 'Like what you see? Visit the ' +\n",
       "            '<a target=\"_blank\" href=https://colab.research.google.com/notebooks/data_table.ipynb>data table notebook</a>'\n",
       "            + ' to learn more about interactive tables.';\n",
       "          element.innerHTML = '';\n",
       "          dataTable['output_type'] = 'display_data';\n",
       "          await google.colab.output.renderOutput(dataTable, element);\n",
       "          const docLink = document.createElement('div');\n",
       "          docLink.innerHTML = docLinkHtml;\n",
       "          element.appendChild(docLink);\n",
       "        }\n",
       "      </script>\n",
       "    </div>\n",
       "  </div>\n",
       "  "
      ],
      "text/plain": [
       "  AnswerKey                                           question  \\\n",
       "0         B  Which factor will most likely cause a person t...   \n",
       "1         B  Lichens are symbiotic organisms made of green ...   \n",
       "2         D  When a switch is used in an electrical circuit...   \n",
       "3         A  Which of the following is an example of an ass...   \n",
       "4         3  Rocks are classified as igneous, metamorphic, ...   \n",
       "\n",
       "                                       only_question  \\\n",
       "0  Which factor will most likely cause a person t...   \n",
       "1  Lichens are symbiotic organisms made of green ...   \n",
       "2  When a switch is used in an electrical circuit...   \n",
       "3  Which of the following is an example of an ass...   \n",
       "4  Rocks are classified as igneous, metamorphic, ...   \n",
       "\n",
       "                                        only_answers  quesiton_length  \\\n",
       "0  (A)  a leg muscle relaxing after exercise (B) ...               66   \n",
       "1  (A)  carbon dioxide (B) food (C) protection (D...              139   \n",
       "2  (A)  cause the charge to build. (B) increase a...               63   \n",
       "3  (A)  contact lens (B) motorcycle (C) raincoat ...               61   \n",
       "4  (1)  their color (2) their shape (3) how they ...               74   \n",
       "\n",
       "                                        options_list  \\\n",
       "0  [a leg muscle relaxing after exercise , bacter...   \n",
       "1  [carbon dioxide , food , protection , water, N...   \n",
       "2  [cause the charge to build. , increase and dec...   \n",
       "3  [contact lens , motorcycle , raincoat , coffee...   \n",
       "4  [their color , shape , how they formed , miner...   \n",
       "\n",
       "                                       option_1_docs  \\\n",
       "0  [Which will most likely cause variations to oc...   \n",
       "1  [Lichens are comprised of blue-green or green ...   \n",
       "2  [When A Switch Is Closed In An Electrical Circ...   \n",
       "3  [Which of the following is an example of an an...   \n",
       "4  [Metamorphic rocks can begin as igneous, sedim...   \n",
       "\n",
       "                                       option_2_docs  \\\n",
       "0  [If a bacterial infection is the suspected cau...   \n",
       "1  [Lichens are comprised of blue-green or green ...   \n",
       "2  [When A Switch Is Closed In An Electrical Circ...   \n",
       "3  [Which of the following is an example of an an...   \n",
       "4  [Metamorphic rocks can begin as igneous, sedim...   \n",
       "\n",
       "                                       option_3_docs  \\\n",
       "0  [A person who has been sick for one week with ...   \n",
       "1  [Lichens are comprised of blue-green or green ...   \n",
       "2  [When A Switch Is Closed In An Electrical Circ...   \n",
       "3  [Which of the following is an example of an an...   \n",
       "4  [Rocks are formed on Earth as igneous, sedimen...   \n",
       "\n",
       "                                       option_4_docs  \\\n",
       "0  [Which will most likely cause variations to oc...   \n",
       "1  [Lichens are comprised of blue-green or green ...   \n",
       "2  [When A Switch Is Closed In An Electrical Circ...   \n",
       "3  [Which of the following is an example of an an...   \n",
       "4  [Metamorphic rocks can begin as igneous, sedim...   \n",
       "\n",
       "                                       option_5_docs  \\\n",
       "0  [Fever: most infections of the lung will cause...   \n",
       "1  [Lichens are comprised of blue-green or green ...   \n",
       "2  [When A Switch Is Closed In An Electrical Circ...   \n",
       "3  [Which of the following is an example of an an...   \n",
       "4  [Metamorphic rocks can begin as igneous, sedim...   \n",
       "\n",
       "                                             context  \n",
       "0  If a bacterial infection is the suspected caus...  \n",
       "1  Lichens are comprised of blue-green or green a...  \n",
       "2  VOLTAGE - That force which is generated to cau...  \n",
       "3  Which of the following is an example of an ang...  \n",
       "4  Igneous, sedimentary, and metamorphic rocks; h...  "
      ]
     },
     "execution_count": 67,
     "metadata": {},
     "output_type": "execute_result"
    }
   ],
   "source": [
    "df_easy_train.head()"
   ]
  },
  {
   "cell_type": "code",
   "execution_count": null,
   "metadata": {},
   "outputs": [],
   "source": [
    "df_easy_dev['context'] = df_easy_dev[['only_question','only_answers']].apply(lambda x: get_context(*x), axis=1)"
   ]
  },
  {
   "cell_type": "code",
   "execution_count": null,
   "metadata": {},
   "outputs": [],
   "source": [
    "df_easy_test['context'] = df_easy_test[['only_question','only_answers']].apply(lambda x: get_context(*x), axis=1)"
   ]
  },
  {
   "cell_type": "code",
   "execution_count": null,
   "metadata": {},
   "outputs": [],
   "source": [
    "df_challenge_train['context'] = df_challenge_train[['only_question','only_answers']].apply(lambda x: get_context(*x), axis=1)\n",
    "df_challenge_dev['context'] = df_challenge_dev[['only_question','only_answers']].apply(lambda x: get_context(*x), axis=1)\n",
    "df_challenge_test['context'] = df_challenge_test[['only_question','only_answers']].apply(lambda x: get_context(*x), axis=1)"
   ]
  },
  {
   "cell_type": "code",
   "execution_count": 75,
   "metadata": {
    "id": "hPFnNeaEENfH"
   },
   "outputs": [],
   "source": [
    "def replace_line_breaks(context):\n",
    "    '''\n",
    "    Function to replace '\\n' with empty strings('').\n",
    "    '''\n",
    "    return context.replace('\\n','')"
   ]
  },
  {
   "cell_type": "code",
   "execution_count": 76,
   "metadata": {
    "id": "idQAEZ4hENa2"
   },
   "outputs": [],
   "source": [
    "df_easy_train['context'] = df_easy_train['context'].apply(replace_line_breaks)\n",
    "df_easy_dev['context'] = df_easy_dev['context'].apply(replace_line_breaks)\n",
    "df_easy_test['context'] = df_easy_test['context'].apply(replace_line_breaks)\n",
    "\n",
    "df_challenge_train['context'] = df_challenge_train['context'].apply(replace_line_breaks)\n",
    "df_challenge_dev['context'] = df_challenge_dev['context'].apply(replace_line_breaks)\n",
    "df_challenge_test['context'] = df_challenge_test['context'].apply(replace_line_breaks)\n"
   ]
  },
  {
   "cell_type": "code",
   "execution_count": 77,
   "metadata": {
    "id": "V5vxAjCzENW7"
   },
   "outputs": [],
   "source": [
    "def preprocess_context(x):\n",
    "\n",
    "    x = re.sub(r\"\\xa0\", \" \", x) #\\xa0 represents space in Unicode. Thus removing it.\n",
    "\n",
    "    #Decontracting the words.\n",
    "    x = re.sub(r\"won't\", \"will not\", x)\n",
    "    x = re.sub(r\"can\\'t\", \"can not\", x)\n",
    "    x = re.sub(r\"n\\'t\", \" not\", x)\n",
    "    x = re.sub(r\"\\'re\", \" are\", x)\n",
    "    x = re.sub(r\"\\'s\", \" is\", x)\n",
    "    x = re.sub(r\"\\'d\", \" would\", x)\n",
    "    x = re.sub(r\"\\'ll\", \" will\", x)\n",
    "    x = re.sub(r\"\\'t\", \" not\", x)\n",
    "    x = re.sub(r\"\\'ve\", \" have\", x)\n",
    "    x = re.sub(r\"\\'m\", \" am\", x)\n",
    "    x = re.sub(r\"b/t\", \"between\", x)\n",
    "    x = re.sub(r\"mph\", \"miles per hour\", x)\n",
    "    x = re.sub(r\"km/h\", \"kilometers per hour\", x)\n",
    "\n",
    "    x = re.sub(r\"[^A-Za-z0-9%+]+\", \" \", x) #Removing special characters.\n",
    "    x = re.sub(r\"\\s+\", \" \", x) #Removing extra spaces.\n",
    "\n",
    "    return x"
   ]
  },
  {
   "cell_type": "code",
   "execution_count": 79,
   "metadata": {
    "id": "vUyrKFY7ENS2"
   },
   "outputs": [],
   "source": [
    "df_easy_train['context'] = df_easy_train['context'].apply(preprocess_context)\n",
    "df_easy_dev['context'] = df_easy_dev['context'].apply(preprocess_context)\n",
    "df_easy_test['context'] = df_easy_test['context'].apply(preprocess_context)\n",
    "\n",
    "df_challenge_train['context'] = df_challenge_train['context'].apply(preprocess_context)\n",
    "df_challenge_dev['context'] = df_challenge_dev['context'].apply(preprocess_context)\n",
    "df_challenge_test['context'] = df_challenge_test['context'].apply(preprocess_context)"
   ]
  },
  {
   "cell_type": "code",
   "execution_count": 80,
   "metadata": {
    "id": "5d7zqp-HENPG"
   },
   "outputs": [],
   "source": [
    "df_easy_train.to_csv('df_easy_train_2.csv', index=False)\n",
    "df_easy_dev.to_csv('df_easy_dev_2.csv', index=False)\n",
    "df_easy_test.to_csv('df_easy_test_2.csv', index=False)\n",
    "\n",
    "df_challenge_train.to_csv('df_challenge_train_2.csv', index=False)\n",
    "df_challenge_dev.to_csv('df_challenge_dev_2.csv', index=False)\n",
    "df_challenge_test.to_csv('df_challenge_test_2.csv', index=False)"
   ]
  },
  {
   "cell_type": "code",
   "execution_count": null,
   "metadata": {
    "id": "nyFcgYgwENK2"
   },
   "outputs": [],
   "source": []
  },
  {
   "cell_type": "code",
   "execution_count": null,
   "metadata": {
    "id": "Vf96RMTrENGO"
   },
   "outputs": [],
   "source": []
  }
 ],
 "metadata": {
  "accelerator": "GPU",
  "colab": {
   "collapsed_sections": [],
   "machine_shape": "hm",
   "name": "Elastic_Search_Indexing.ipynb",
   "provenance": []
  },
  "gpuClass": "standard",
  "kernelspec": {
   "display_name": "Python 3",
   "language": "python",
   "name": "python3"
  },
  "language_info": {
   "codemirror_mode": {
    "name": "ipython",
    "version": 3
   },
   "file_extension": ".py",
   "mimetype": "text/x-python",
   "name": "python",
   "nbconvert_exporter": "python",
   "pygments_lexer": "ipython3",
   "version": "3.7.1"
  }
 },
 "nbformat": 4,
 "nbformat_minor": 1
}
